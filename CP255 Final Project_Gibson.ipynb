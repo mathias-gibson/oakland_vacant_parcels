{
 "cells": [
  {
   "cell_type": "markdown",
   "metadata": {},
   "source": [
    "https://www.ocf.berkeley.edu/~mathiasgibson/2017/12/05/vacant-parcels-in-oakland-ca/"
   ]
  },
  {
   "cell_type": "raw",
   "metadata": {
    "collapsed": true
   },
   "source": [
    "#Installs, if necessary, uncomment the pip install line here and run it\n",
    "#!pip install geopandas=='0.3'\n",
    "#!pip install rtree"
   ]
  },
  {
   "cell_type": "markdown",
   "metadata": {},
   "source": [
    "## Import and Load Packages"
   ]
  },
  {
   "cell_type": "code",
   "execution_count": 3,
   "metadata": {
    "collapsed": true
   },
   "outputs": [],
   "source": [
    "#Data, Plotting, Mapping\n",
    "%matplotlib inline\n",
    "import pandas as pd, numpy as np, matplotlib.pyplot as plt\n",
    "import geopandas as gpd\n",
    "from geopandas import GeoDataFrame\n",
    "from shapely.geometry import Point\n",
    "from scipy import ndimage\n",
    "import matplotlib.pylab as pylab\n",
    "import matplotlib.pyplot as plt\n",
    "import fiona #read_file uses Fiona to handle the actual reading and writing of files (can handle Shapefiles and GeoJSON formatted files)\n",
    "pylab.rcParams['figure.figsize'] = 10, 8\n",
    "\n",
    "#APIs\n",
    "import json      # library for working with JSON-formatted text strings\n",
    "import requests  # library for accessing content from web URLs\n",
    "import pprint    # library for cleanly printing Python data structures\n",
    "pp = pprint.PrettyPrinter()\n",
    "\n",
    "import warnings \n",
    "warnings.filterwarnings('ignore')"
   ]
  },
  {
   "cell_type": "markdown",
   "metadata": {},
   "source": [
    "## Clean and Merge Parcel and Tax Data"
   ]
  },
  {
   "cell_type": "code",
   "execution_count": 6,
   "metadata": {
    "collapsed": true
   },
   "outputs": [],
   "source": [
    "#Loading Polygon Shapefile\n",
    "parcels = gpd.read_file('Alameda County Parcel Boundaries/geo_export_a85caf8b-4f4f-46a5-be18-af34498f0784.shp')\n",
    "parcels_clean = parcels.drop(['page','book','editor','clca_categ','fid_parcel'], axis=1)\n",
    "#print(type(parcels))\n",
    "#print(parcels.head())"
   ]
  },
  {
   "cell_type": "raw",
   "metadata": {},
   "source": [
    "parcels.plot(color='none', edgecolor='gray', linewidth=.2);\n",
    "parcels.crs #find out the coordinate reference system (CRS) of a dataset"
   ]
  },
  {
   "cell_type": "code",
   "execution_count": 7,
   "metadata": {
    "collapsed": true
   },
   "outputs": [],
   "source": [
    "#load and drop fields from tax roll file\n",
    "tax = pd.read_csv('Assessor_s_Office_Secured_Tax_Roll_-_2017_2018.csv')\n",
    "tax['Year'] = tax['Latest Document Date'].str[6:10].fillna(0).astype('int')\n",
    "tax_clean = tax.drop(['Situs Unit','TRA Primary','TRA Secondary','CLCA Land','Fixtures','Latest Document Prefix','BPP','HPP','CLCA Imps','Source','HOEX','OTEX','Print Parcel','Situs Zip + 4', 'Mailing Address Street','Mailing Address Unit','Mailing Address City State','Mailing Address Zip','Mailing Address Zip + 4','CKDIGIT','WSEQ','Mailing Address Effective Date','Econ Unit','Latest Document Input Date','Delete Date'], axis=1)"
   ]
  },
  {
   "cell_type": "code",
   "execution_count": null,
   "metadata": {},
   "outputs": [],
   "source": [
    "#clean commas and make int for calculations\n",
    "tax_clean['Use Code']= tax_clean['Use Code'].str.replace(',', '')\n",
    "tax_clean['Use Code']= tax_clean['Use Code'].astype('int')\n",
    "\n",
    "tax_clean['Land']= tax_clean['Land'].str.replace(',', '')\n",
    "tax_clean['Land'] = tax_clean['Land'].astype('int')\n",
    "\n",
    "tax_clean['Imps']= tax_clean['Imps'].str.replace(',', '')\n",
    "tax_clean['Imps'] = tax_clean['Imps'].astype('int')\n",
    "\n",
    "tax_clean['Total Net Value']= tax_clean['Total Net Value'].str.replace(',', '')\n",
    "tax_clean['Total Net Value'] = tax_clean['Total Net Value'].astype('int')\n",
    "\n",
    "tax_clean['Situs Street Number'] = tax_clean['Situs Street Number'].astype('str')\n",
    "tax_clean['Situs Street Number'] = tax_clean['Situs Street Number'].str.replace(',', '')\n",
    "\n",
    "tax_clean['Latest Document Series']= tax_clean['Latest Document Series'].astype('str')\n",
    "tax_clean['Latest Document Series']= tax_clean['Latest Document Series'].str.replace(',', '')\n",
    "\n",
    "tax_clean['Latest Document Prefix']= tax_clean['Latest Document Prefix'].astype('str')\n",
    "tax_clean['Latest Document Prefix']= tax_clean['Latest Document Prefix'].str.replace(',', '')"
   ]
  },
  {
   "cell_type": "code",
   "execution_count": 15,
   "metadata": {},
   "outputs": [
    {
     "data": {
      "text/html": [
       "<div>\n",
       "<style>\n",
       "    .dataframe thead tr:only-child th {\n",
       "        text-align: right;\n",
       "    }\n",
       "\n",
       "    .dataframe thead th {\n",
       "        text-align: left;\n",
       "    }\n",
       "\n",
       "    .dataframe tbody tr th {\n",
       "        vertical-align: top;\n",
       "    }\n",
       "</style>\n",
       "<table border=\"1\" class=\"dataframe\">\n",
       "  <thead>\n",
       "    <tr style=\"text-align: right;\">\n",
       "      <th></th>\n",
       "      <th>Sort Parcel</th>\n",
       "      <th>Situs Street Number</th>\n",
       "      <th>Situs Street Name</th>\n",
       "      <th>Situs City</th>\n",
       "      <th>Situs Zip</th>\n",
       "      <th>Land</th>\n",
       "      <th>Imps</th>\n",
       "      <th>Total Net Value</th>\n",
       "      <th>Latest Document Prefix</th>\n",
       "      <th>Latest Document Series</th>\n",
       "      <th>Latest Document Date</th>\n",
       "      <th>Use Code</th>\n",
       "    </tr>\n",
       "  </thead>\n",
       "  <tbody>\n",
       "    <tr>\n",
       "      <th>0</th>\n",
       "      <td>051 481603000</td>\n",
       "      <td>142</td>\n",
       "      <td>SANDRINGHAM RD</td>\n",
       "      <td>PIEDMONT</td>\n",
       "      <td>94611</td>\n",
       "      <td>520200</td>\n",
       "      <td>1213800</td>\n",
       "      <td>1727000</td>\n",
       "      <td>2016</td>\n",
       "      <td>157856</td>\n",
       "      <td>06/23/2016 12:00:00 AM</td>\n",
       "      <td>1100</td>\n",
       "    </tr>\n",
       "    <tr>\n",
       "      <th>1</th>\n",
       "      <td>051 481603100</td>\n",
       "      <td>136</td>\n",
       "      <td>SANDRINGHAM RD</td>\n",
       "      <td>PIEDMONT</td>\n",
       "      <td>94611</td>\n",
       "      <td>239439</td>\n",
       "      <td>558691</td>\n",
       "      <td>791130</td>\n",
       "      <td>1999</td>\n",
       "      <td>39179</td>\n",
       "      <td>01/29/1999 12:00:00 AM</td>\n",
       "      <td>1100</td>\n",
       "    </tr>\n",
       "    <tr>\n",
       "      <th>2</th>\n",
       "      <td>051 481603200</td>\n",
       "      <td>130</td>\n",
       "      <td>SANDRINGHAM RD</td>\n",
       "      <td>PIEDMONT</td>\n",
       "      <td>94611</td>\n",
       "      <td>665645</td>\n",
       "      <td>1647173</td>\n",
       "      <td>2305818</td>\n",
       "      <td>2012</td>\n",
       "      <td>213397</td>\n",
       "      <td>07/03/2012 12:00:00 AM</td>\n",
       "      <td>1100</td>\n",
       "    </tr>\n",
       "    <tr>\n",
       "      <th>3</th>\n",
       "      <td>051 481603300</td>\n",
       "      <td>120</td>\n",
       "      <td>SANDRINGHAM RD</td>\n",
       "      <td>PIEDMONT</td>\n",
       "      <td>94611</td>\n",
       "      <td>481817</td>\n",
       "      <td>249205</td>\n",
       "      <td>724022</td>\n",
       "      <td>2013</td>\n",
       "      <td>136132</td>\n",
       "      <td>04/17/2013 12:00:00 AM</td>\n",
       "      <td>1100</td>\n",
       "    </tr>\n",
       "    <tr>\n",
       "      <th>4</th>\n",
       "      <td>051 481700101</td>\n",
       "      <td>20</td>\n",
       "      <td>SELBORNE DR</td>\n",
       "      <td>PIEDMONT</td>\n",
       "      <td>94611</td>\n",
       "      <td>642600</td>\n",
       "      <td>1193400</td>\n",
       "      <td>1836000</td>\n",
       "      <td>2016</td>\n",
       "      <td>138794</td>\n",
       "      <td>06/02/2016 12:00:00 AM</td>\n",
       "      <td>1100</td>\n",
       "    </tr>\n",
       "  </tbody>\n",
       "</table>\n",
       "</div>"
      ],
      "text/plain": [
       "     Sort Parcel Situs Street Number Situs Street Name Situs City  Situs Zip  \\\n",
       "0  051 481603000                 142    SANDRINGHAM RD   PIEDMONT      94611   \n",
       "1  051 481603100                 136    SANDRINGHAM RD   PIEDMONT      94611   \n",
       "2  051 481603200                 130    SANDRINGHAM RD   PIEDMONT      94611   \n",
       "3  051 481603300                 120    SANDRINGHAM RD   PIEDMONT      94611   \n",
       "4  051 481700101                  20       SELBORNE DR   PIEDMONT      94611   \n",
       "\n",
       "     Land     Imps  Total Net Value Latest Document Prefix  \\\n",
       "0  520200  1213800          1727000                   2016   \n",
       "1  239439   558691           791130                   1999   \n",
       "2  665645  1647173          2305818                   2012   \n",
       "3  481817   249205           724022                   2013   \n",
       "4  642600  1193400          1836000                   2016   \n",
       "\n",
       "  Latest Document Series    Latest Document Date Use Code  \n",
       "0                 157856  06/23/2016 12:00:00 AM     1100  \n",
       "1                  39179  01/29/1999 12:00:00 AM     1100  \n",
       "2                 213397  07/03/2012 12:00:00 AM     1100  \n",
       "3                 136132  04/17/2013 12:00:00 AM     1100  \n",
       "4                 138794  06/02/2016 12:00:00 AM     1100  "
      ]
     },
     "execution_count": 15,
     "metadata": {},
     "output_type": "execute_result"
    }
   ],
   "source": [
    "tax_clean.head()"
   ]
  },
  {
   "cell_type": "code",
   "execution_count": 16,
   "metadata": {
    "collapsed": true
   },
   "outputs": [],
   "source": [
    "tax_parcels = pd.merge(parcels_clean, tax_clean, left_on=\"apn_sort\", right_on=\"Sort Parcel\", how=\"inner\")\n",
    "\n",
    "oakland_parcels = tax_parcels[tax_parcels['Situs City']=='OAKLAND']\n",
    "\n",
    "oakland_parcels = oakland_parcels[oakland_parcels['geometry'].notnull()]\n",
    "#oakland_parcels_clean.shape: 98,460 parcels, lost 300k+ parcels"
   ]
  },
  {
   "cell_type": "code",
   "execution_count": 17,
   "metadata": {
    "collapsed": true
   },
   "outputs": [],
   "source": [
    "#dropping extra spatial fields from parcel data\n",
    "oakland_parcels = oakland_parcels.drop(['shape_st_4','shape_st_1','sub_parcel','date_updat','shape_stle', 'centroid_x', 'shape_star', 'comments', 'shape_st_3','apn', 'shape_st_2', 'centroid_y', 'parcel', 'date_creat', 'Sort Parcel'],1)"
   ]
  },
  {
   "cell_type": "code",
   "execution_count": 176,
   "metadata": {},
   "outputs": [
    {
     "data": {
      "text/html": [
       "<div>\n",
       "<style>\n",
       "    .dataframe thead tr:only-child th {\n",
       "        text-align: right;\n",
       "    }\n",
       "\n",
       "    .dataframe thead th {\n",
       "        text-align: left;\n",
       "    }\n",
       "\n",
       "    .dataframe tbody tr th {\n",
       "        vertical-align: top;\n",
       "    }\n",
       "</style>\n",
       "<table border=\"1\" class=\"dataframe\">\n",
       "  <thead>\n",
       "    <tr style=\"text-align: right;\">\n",
       "      <th></th>\n",
       "      <th>apn_sort</th>\n",
       "      <th>geometry</th>\n",
       "      <th>Situs Street Number</th>\n",
       "      <th>Situs Street Name</th>\n",
       "      <th>Situs City</th>\n",
       "      <th>Situs Zip</th>\n",
       "      <th>Land</th>\n",
       "      <th>Imps</th>\n",
       "      <th>Total Net Value</th>\n",
       "      <th>Latest Document Prefix</th>\n",
       "      <th>Latest Document Series</th>\n",
       "      <th>Latest Document Date</th>\n",
       "      <th>Use Code</th>\n",
       "    </tr>\n",
       "  </thead>\n",
       "  <tbody>\n",
       "    <tr>\n",
       "      <th>0</th>\n",
       "      <td>048 629806800</td>\n",
       "      <td>POLYGON ((-122.1203618878905 37.75620960906961...</td>\n",
       "      <td>21</td>\n",
       "      <td>MARVIN CT</td>\n",
       "      <td>OAKLAND</td>\n",
       "      <td>94605</td>\n",
       "      <td>99967</td>\n",
       "      <td>118540</td>\n",
       "      <td>211507</td>\n",
       "      <td>2,015</td>\n",
       "      <td>233,313</td>\n",
       "      <td>08/20/2015 12:00:00 AM</td>\n",
       "      <td>1100</td>\n",
       "    </tr>\n",
       "    <tr>\n",
       "      <th>1</th>\n",
       "      <td>048 629800302</td>\n",
       "      <td>POLYGON ((-122.1238375824534 37.75571233182055...</td>\n",
       "      <td>10,709</td>\n",
       "      <td>COTTER ST</td>\n",
       "      <td>OAKLAND</td>\n",
       "      <td>94605</td>\n",
       "      <td>97680</td>\n",
       "      <td>228104</td>\n",
       "      <td>318784</td>\n",
       "      <td>2,009</td>\n",
       "      <td>294,376</td>\n",
       "      <td>09/11/2009 12:00:00 AM</td>\n",
       "      <td>1100</td>\n",
       "    </tr>\n",
       "    <tr>\n",
       "      <th>2</th>\n",
       "      <td>048 629907100</td>\n",
       "      <td>POLYGON ((-122.1232337216532 37.75211193059634...</td>\n",
       "      <td>4,734</td>\n",
       "      <td>SHETLAND AVE</td>\n",
       "      <td>OAKLAND</td>\n",
       "      <td>94605</td>\n",
       "      <td>35913</td>\n",
       "      <td>54715</td>\n",
       "      <td>83628</td>\n",
       "      <td>2,013</td>\n",
       "      <td>311,619</td>\n",
       "      <td>09/19/2013 12:00:00 AM</td>\n",
       "      <td>1100</td>\n",
       "    </tr>\n",
       "    <tr>\n",
       "      <th>3</th>\n",
       "      <td>048 631302300</td>\n",
       "      <td>POLYGON ((-122.1250419508898 37.75428601190077...</td>\n",
       "      <td>4,728</td>\n",
       "      <td>SCOTIA AVE</td>\n",
       "      <td>OAKLAND</td>\n",
       "      <td>94605</td>\n",
       "      <td>79230</td>\n",
       "      <td>80026</td>\n",
       "      <td>152256</td>\n",
       "      <td>2,013</td>\n",
       "      <td>237,972</td>\n",
       "      <td>07/10/2013 12:00:00 AM</td>\n",
       "      <td>1100</td>\n",
       "    </tr>\n",
       "    <tr>\n",
       "      <th>4</th>\n",
       "      <td>048 643203900</td>\n",
       "      <td>POLYGON ((-122.1285286631322 37.76246225016029...</td>\n",
       "      <td>448</td>\n",
       "      <td>ELYSIAN FIELDS DR</td>\n",
       "      <td>OAKLAND</td>\n",
       "      <td>94605</td>\n",
       "      <td>269280</td>\n",
       "      <td>628320</td>\n",
       "      <td>890600</td>\n",
       "      <td>2,015</td>\n",
       "      <td>285,900</td>\n",
       "      <td>10/23/2015 12:00:00 AM</td>\n",
       "      <td>1100</td>\n",
       "    </tr>\n",
       "  </tbody>\n",
       "</table>\n",
       "</div>"
      ],
      "text/plain": [
       "        apn_sort                                           geometry  \\\n",
       "0  048 629806800  POLYGON ((-122.1203618878905 37.75620960906961...   \n",
       "1  048 629800302  POLYGON ((-122.1238375824534 37.75571233182055...   \n",
       "2  048 629907100  POLYGON ((-122.1232337216532 37.75211193059634...   \n",
       "3  048 631302300  POLYGON ((-122.1250419508898 37.75428601190077...   \n",
       "4  048 643203900  POLYGON ((-122.1285286631322 37.76246225016029...   \n",
       "\n",
       "  Situs Street Number  Situs Street Name Situs City  Situs Zip    Land  \\\n",
       "0                  21          MARVIN CT    OAKLAND      94605   99967   \n",
       "1              10,709          COTTER ST    OAKLAND      94605   97680   \n",
       "2               4,734       SHETLAND AVE    OAKLAND      94605   35913   \n",
       "3               4,728         SCOTIA AVE    OAKLAND      94605   79230   \n",
       "4                 448  ELYSIAN FIELDS DR    OAKLAND      94605  269280   \n",
       "\n",
       "     Imps  Total Net Value Latest Document Prefix Latest Document Series  \\\n",
       "0  118540           211507                  2,015                233,313   \n",
       "1  228104           318784                  2,009                294,376   \n",
       "2   54715            83628                  2,013                311,619   \n",
       "3   80026           152256                  2,013                237,972   \n",
       "4  628320           890600                  2,015                285,900   \n",
       "\n",
       "     Latest Document Date  Use Code  \n",
       "0  08/20/2015 12:00:00 AM      1100  \n",
       "1  09/11/2009 12:00:00 AM      1100  \n",
       "2  09/19/2013 12:00:00 AM      1100  \n",
       "3  07/10/2013 12:00:00 AM      1100  \n",
       "4  10/23/2015 12:00:00 AM      1100  "
      ]
     },
     "execution_count": 176,
     "metadata": {},
     "output_type": "execute_result"
    }
   ],
   "source": [
    "oakland_parcels.head()"
   ]
  },
  {
   "cell_type": "code",
   "execution_count": 180,
   "metadata": {},
   "outputs": [
    {
     "data": {
      "text/plain": [
       "(98460, 13)"
      ]
     },
     "execution_count": 180,
     "metadata": {},
     "output_type": "execute_result"
    }
   ],
   "source": [
    "oakland_parcels.shape"
   ]
  },
  {
   "cell_type": "markdown",
   "metadata": {},
   "source": [
    "## Zoning"
   ]
  },
  {
   "cell_type": "code",
   "execution_count": 40,
   "metadata": {},
   "outputs": [
    {
     "data": {
      "text/html": [
       "<div>\n",
       "<style>\n",
       "    .dataframe thead tr:only-child th {\n",
       "        text-align: right;\n",
       "    }\n",
       "\n",
       "    .dataframe thead th {\n",
       "        text-align: left;\n",
       "    }\n",
       "\n",
       "    .dataframe tbody tr th {\n",
       "        vertical-align: top;\n",
       "    }\n",
       "</style>\n",
       "<table border=\"1\" class=\"dataframe\">\n",
       "  <thead>\n",
       "    <tr style=\"text-align: right;\">\n",
       "      <th></th>\n",
       "      <th>overlay</th>\n",
       "      <th>ordinance</th>\n",
       "      <th>znlabel</th>\n",
       "      <th>expiredate</th>\n",
       "      <th>perimeter</th>\n",
       "      <th>area</th>\n",
       "      <th>test</th>\n",
       "      <th>lastupdate</th>\n",
       "      <th>effctvdate</th>\n",
       "      <th>basezone</th>\n",
       "      <th>geometry</th>\n",
       "    </tr>\n",
       "  </thead>\n",
       "  <tbody>\n",
       "    <tr>\n",
       "      <th>0</th>\n",
       "      <td>/S-19</td>\n",
       "      <td>12875</td>\n",
       "      <td>CIX-1/S-19</td>\n",
       "      <td></td>\n",
       "      <td>1015.466097</td>\n",
       "      <td>5.512397e+06</td>\n",
       "      <td>CIX-1/S-19</td>\n",
       "      <td>20090304</td>\n",
       "      <td>20080718</td>\n",
       "      <td>CIX-1</td>\n",
       "      <td>POLYGON ((-122.2857308439033 37.82232725511785...</td>\n",
       "    </tr>\n",
       "    <tr>\n",
       "      <th>1</th>\n",
       "      <td>/S-19</td>\n",
       "      <td>12875</td>\n",
       "      <td>CIX-1/S-19</td>\n",
       "      <td></td>\n",
       "      <td>1015.466097</td>\n",
       "      <td>5.744007e+05</td>\n",
       "      <td>CIX-1/S-19</td>\n",
       "      <td>20090304</td>\n",
       "      <td>20080718</td>\n",
       "      <td>CIX-1</td>\n",
       "      <td>POLYGON ((-122.2812909540165 37.80236514210691...</td>\n",
       "    </tr>\n",
       "    <tr>\n",
       "      <th>2</th>\n",
       "      <td>/S-19</td>\n",
       "      <td>12875</td>\n",
       "      <td>CIX-1/S-19</td>\n",
       "      <td></td>\n",
       "      <td>17791.906465</td>\n",
       "      <td>3.983032e+06</td>\n",
       "      <td>CIX-1/S-19</td>\n",
       "      <td>20090304</td>\n",
       "      <td>20080718</td>\n",
       "      <td>CIX-1</td>\n",
       "      <td>(POLYGON ((-122.2993166973065 37.8062938028413...</td>\n",
       "    </tr>\n",
       "    <tr>\n",
       "      <th>3</th>\n",
       "      <td></td>\n",
       "      <td></td>\n",
       "      <td>OS (NP)</td>\n",
       "      <td></td>\n",
       "      <td>1498.555904</td>\n",
       "      <td>1.389631e+05</td>\n",
       "      <td>OS (NP)</td>\n",
       "      <td>20090304</td>\n",
       "      <td></td>\n",
       "      <td>OS (NP)</td>\n",
       "      <td>POLYGON ((-122.1773177128875 37.72609018686309...</td>\n",
       "    </tr>\n",
       "    <tr>\n",
       "      <th>4</th>\n",
       "      <td></td>\n",
       "      <td></td>\n",
       "      <td>R-40</td>\n",
       "      <td></td>\n",
       "      <td>2286.429366</td>\n",
       "      <td>1.662382e+05</td>\n",
       "      <td>R-40</td>\n",
       "      <td>20090304</td>\n",
       "      <td></td>\n",
       "      <td>R-40</td>\n",
       "      <td>POLYGON ((-122.1824047150539 37.72864462309264...</td>\n",
       "    </tr>\n",
       "  </tbody>\n",
       "</table>\n",
       "</div>"
      ],
      "text/plain": [
       "  overlay ordinance     znlabel expiredate     perimeter          area  \\\n",
       "0   /S-19     12875  CIX-1/S-19              1015.466097  5.512397e+06   \n",
       "1   /S-19     12875  CIX-1/S-19              1015.466097  5.744007e+05   \n",
       "2   /S-19     12875  CIX-1/S-19             17791.906465  3.983032e+06   \n",
       "3                       OS (NP)              1498.555904  1.389631e+05   \n",
       "4                          R-40              2286.429366  1.662382e+05   \n",
       "\n",
       "         test lastupdate effctvdate basezone  \\\n",
       "0  CIX-1/S-19   20090304   20080718    CIX-1   \n",
       "1  CIX-1/S-19   20090304   20080718    CIX-1   \n",
       "2  CIX-1/S-19   20090304   20080718    CIX-1   \n",
       "3     OS (NP)   20090304             OS (NP)   \n",
       "4        R-40   20090304                R-40   \n",
       "\n",
       "                                            geometry  \n",
       "0  POLYGON ((-122.2857308439033 37.82232725511785...  \n",
       "1  POLYGON ((-122.2812909540165 37.80236514210691...  \n",
       "2  (POLYGON ((-122.2993166973065 37.8062938028413...  \n",
       "3  POLYGON ((-122.1773177128875 37.72609018686309...  \n",
       "4  POLYGON ((-122.1824047150539 37.72864462309264...  "
      ]
     },
     "execution_count": 40,
     "metadata": {},
     "output_type": "execute_result"
    }
   ],
   "source": [
    "zoning = gpd.read_file('City-wide Zoning Map/geo_export_e3412bab-6a4e-42e8-893b-592036e2869f.shp')\n",
    "zoning.head()"
   ]
  },
  {
   "cell_type": "code",
   "execution_count": 59,
   "metadata": {},
   "outputs": [
    {
     "data": {
      "text/plain": [
       "<matplotlib.axes._subplots.AxesSubplot at 0x15a85eb38>"
      ]
     },
     "execution_count": 59,
     "metadata": {},
     "output_type": "execute_result"
    },
    {
     "data": {
      "image/png": "[encoded data removed]",
      "text/plain": [
       "<matplotlib.figure.Figure at 0x15a8835f8>"
      ]
     },
     "metadata": {},
     "output_type": "display_data"
    }
   ],
   "source": [
    "zoning.plot()"
   ]
  },
  {
   "cell_type": "code",
   "execution_count": 41,
   "metadata": {
    "collapsed": true
   },
   "outputs": [],
   "source": [
    "zoning_clean = zoning[zoning['geometry'].notnull()]\n",
    "#zoning_clean.shape: 993 zones, lost 52 zones\n"
   ]
  },
  {
   "cell_type": "code",
   "execution_count": 42,
   "metadata": {
    "collapsed": true
   },
   "outputs": [],
   "source": [
    "zoning_clean = zoning_clean.drop(['overlay', 'ordinance', 'znlabel', 'expiredate', 'perimeter', 'area', 'test', 'lastupdate', 'effctvdate'],1)"
   ]
  },
  {
   "cell_type": "code",
   "execution_count": 45,
   "metadata": {},
   "outputs": [
    {
     "data": {
      "text/html": [
       "<div>\n",
       "<style>\n",
       "    .dataframe thead tr:only-child th {\n",
       "        text-align: right;\n",
       "    }\n",
       "\n",
       "    .dataframe thead th {\n",
       "        text-align: left;\n",
       "    }\n",
       "\n",
       "    .dataframe tbody tr th {\n",
       "        vertical-align: top;\n",
       "    }\n",
       "</style>\n",
       "<table border=\"1\" class=\"dataframe\">\n",
       "  <thead>\n",
       "    <tr style=\"text-align: right;\">\n",
       "      <th></th>\n",
       "      <th>apn_sort</th>\n",
       "      <th>geometry</th>\n",
       "      <th>Situs Street Number</th>\n",
       "      <th>Situs Street Name</th>\n",
       "      <th>Situs City</th>\n",
       "      <th>Situs Zip</th>\n",
       "      <th>Land</th>\n",
       "      <th>Imps</th>\n",
       "      <th>Total Net Value</th>\n",
       "      <th>Latest Document Prefix</th>\n",
       "      <th>Latest Document Series</th>\n",
       "      <th>Latest Document Date</th>\n",
       "      <th>Use Code</th>\n",
       "      <th>index_right</th>\n",
       "      <th>basezone</th>\n",
       "    </tr>\n",
       "  </thead>\n",
       "  <tbody>\n",
       "    <tr>\n",
       "      <th>0</th>\n",
       "      <td>048 629806800</td>\n",
       "      <td>POLYGON ((-122.1203618878905 37.75620960906961...</td>\n",
       "      <td>21</td>\n",
       "      <td>MARVIN CT</td>\n",
       "      <td>OAKLAND</td>\n",
       "      <td>94605</td>\n",
       "      <td>99967</td>\n",
       "      <td>118540</td>\n",
       "      <td>211507</td>\n",
       "      <td>2015</td>\n",
       "      <td>233313</td>\n",
       "      <td>08/20/2015 12:00:00 AM</td>\n",
       "      <td>1100</td>\n",
       "      <td>130</td>\n",
       "      <td>R-30</td>\n",
       "    </tr>\n",
       "    <tr>\n",
       "      <th>1</th>\n",
       "      <td>048 629800302</td>\n",
       "      <td>POLYGON ((-122.1238375824534 37.75571233182055...</td>\n",
       "      <td>10709</td>\n",
       "      <td>COTTER ST</td>\n",
       "      <td>OAKLAND</td>\n",
       "      <td>94605</td>\n",
       "      <td>97680</td>\n",
       "      <td>228104</td>\n",
       "      <td>318784</td>\n",
       "      <td>2009</td>\n",
       "      <td>294376</td>\n",
       "      <td>09/11/2009 12:00:00 AM</td>\n",
       "      <td>1100</td>\n",
       "      <td>130</td>\n",
       "      <td>R-30</td>\n",
       "    </tr>\n",
       "    <tr>\n",
       "      <th>2</th>\n",
       "      <td>048 629907100</td>\n",
       "      <td>POLYGON ((-122.1232337216532 37.75211193059634...</td>\n",
       "      <td>4734</td>\n",
       "      <td>SHETLAND AVE</td>\n",
       "      <td>OAKLAND</td>\n",
       "      <td>94605</td>\n",
       "      <td>35913</td>\n",
       "      <td>54715</td>\n",
       "      <td>83628</td>\n",
       "      <td>2013</td>\n",
       "      <td>311619</td>\n",
       "      <td>09/19/2013 12:00:00 AM</td>\n",
       "      <td>1100</td>\n",
       "      <td>130</td>\n",
       "      <td>R-30</td>\n",
       "    </tr>\n",
       "    <tr>\n",
       "      <th>3</th>\n",
       "      <td>048 631302300</td>\n",
       "      <td>POLYGON ((-122.1250419508898 37.75428601190077...</td>\n",
       "      <td>4728</td>\n",
       "      <td>SCOTIA AVE</td>\n",
       "      <td>OAKLAND</td>\n",
       "      <td>94605</td>\n",
       "      <td>79230</td>\n",
       "      <td>80026</td>\n",
       "      <td>152256</td>\n",
       "      <td>2013</td>\n",
       "      <td>237972</td>\n",
       "      <td>07/10/2013 12:00:00 AM</td>\n",
       "      <td>1100</td>\n",
       "      <td>130</td>\n",
       "      <td>R-30</td>\n",
       "    </tr>\n",
       "    <tr>\n",
       "      <th>6</th>\n",
       "      <td>048 643100700</td>\n",
       "      <td>POLYGON ((-122.1316070320111 37.76050218325625...</td>\n",
       "      <td>95</td>\n",
       "      <td>DONNA WAY</td>\n",
       "      <td>OAKLAND</td>\n",
       "      <td>94605</td>\n",
       "      <td>105246</td>\n",
       "      <td>209090</td>\n",
       "      <td>307336</td>\n",
       "      <td>2005</td>\n",
       "      <td>227583</td>\n",
       "      <td>06/06/2005 12:00:00 AM</td>\n",
       "      <td>1100</td>\n",
       "      <td>130</td>\n",
       "      <td>R-30</td>\n",
       "    </tr>\n",
       "  </tbody>\n",
       "</table>\n",
       "</div>"
      ],
      "text/plain": [
       "        apn_sort                                           geometry  \\\n",
       "0  048 629806800  POLYGON ((-122.1203618878905 37.75620960906961...   \n",
       "1  048 629800302  POLYGON ((-122.1238375824534 37.75571233182055...   \n",
       "2  048 629907100  POLYGON ((-122.1232337216532 37.75211193059634...   \n",
       "3  048 631302300  POLYGON ((-122.1250419508898 37.75428601190077...   \n",
       "6  048 643100700  POLYGON ((-122.1316070320111 37.76050218325625...   \n",
       "\n",
       "  Situs Street Number Situs Street Name Situs City  Situs Zip    Land    Imps  \\\n",
       "0                  21         MARVIN CT    OAKLAND      94605   99967  118540   \n",
       "1               10709         COTTER ST    OAKLAND      94605   97680  228104   \n",
       "2                4734      SHETLAND AVE    OAKLAND      94605   35913   54715   \n",
       "3                4728        SCOTIA AVE    OAKLAND      94605   79230   80026   \n",
       "6                  95         DONNA WAY    OAKLAND      94605  105246  209090   \n",
       "\n",
       "   Total Net Value Latest Document Prefix Latest Document Series  \\\n",
       "0           211507                   2015                 233313   \n",
       "1           318784                   2009                 294376   \n",
       "2            83628                   2013                 311619   \n",
       "3           152256                   2013                 237972   \n",
       "6           307336                   2005                 227583   \n",
       "\n",
       "     Latest Document Date Use Code  index_right basezone  \n",
       "0  08/20/2015 12:00:00 AM     1100          130     R-30  \n",
       "1  09/11/2009 12:00:00 AM     1100          130     R-30  \n",
       "2  09/19/2013 12:00:00 AM     1100          130     R-30  \n",
       "3  07/10/2013 12:00:00 AM     1100          130     R-30  \n",
       "6  06/06/2005 12:00:00 AM     1100          130     R-30  "
      ]
     },
     "execution_count": 45,
     "metadata": {},
     "output_type": "execute_result"
    }
   ],
   "source": [
    "oakland_parcels_zone = gpd.sjoin(oakland_parcels,zoning_clean, how=\"inner\", op='intersects')\n",
    "oakland_parcels_zone.head()"
   ]
  },
  {
   "cell_type": "markdown",
   "metadata": {},
   "source": [
    "## Vacancy"
   ]
  },
  {
   "cell_type": "markdown",
   "metadata": {},
   "source": [
    "#### Vacant Use Codes\n",
    "800: Vacant residential tract lot  \n",
    "1000: Vacant residential land, zoned 4 units or less  \n",
    "1040: Vacant residential land, R&T 402.1  \n",
    "3000: Vacant commercial land (may include misc. imps)  \n",
    "4000: Vacant industrial land (may include misc. imps)  \n",
    "5000: Vacant rural-res homesites, may incl misc. imps  \n",
    "5700: Vacant rural land, not usable even for agriculture  \n",
    "5900: Vacant rural land, non-renewal Williamson Act  \n",
    "6000: Vacant land necessary part of institutional prop.  \n",
    "6001: Government owned property - vacant land  \n",
    "7000: Vacant apartment land, capable of 5 or more units  \n",
    "7040: Vacant apartment land, R&T 402.1  \n",
    "7090: Vacant apartment common area or use"
   ]
  },
  {
   "cell_type": "code",
   "execution_count": 51,
   "metadata": {
    "collapsed": true
   },
   "outputs": [],
   "source": [
    "##filtering oakland_parcels_zone to use codes with \"vacant\" in description, 4992 parcels\n",
    "vacant_parcels_zone = oakland_parcels_zone[oakland_parcels_zone['Use Code'].isin(['800', '1000', '1040', '3000', '4000', '5000','5700', '5900', '6000', '6001', '7000', '7040', '7090'])]"
   ]
  },
  {
   "cell_type": "code",
   "execution_count": 64,
   "metadata": {},
   "outputs": [],
   "source": [
    "#drop duplicate parcels created in match of zone and parcels, down to 4120 parcels\n",
    "vacant_parcels_zone = vacant_parcels_zone.drop_duplicates(subset='apn_sort')"
   ]
  },
  {
   "cell_type": "code",
   "execution_count": 130,
   "metadata": {
    "collapsed": true
   },
   "outputs": [],
   "source": [
    "#filtering oakland_parcels to use codes with \"vacant\" in description, 4141 parcels\n",
    "vacant_parcels = oakland_parcels[oakland_parcels['Use Code'].isin(['800', '1000', '1040', '3000', '4000', '5000','5700', '5900', '6000', '6001', '7000', '7040', '7090'])]"
   ]
  },
  {
   "cell_type": "code",
   "execution_count": 308,
   "metadata": {
    "collapsed": true
   },
   "outputs": [],
   "source": [
    "#projecting to MTC standard (Universal Transverse Mercator (UTM), Zone 10N, NAD83)\n",
    "mtc_crs = '+proj=utm +zone=10 +ellps=GRS80 +datum=NAD83 +units=m +no_defs '\n",
    "crs_4326 = {'init' :'epsg:4326'}\n",
    "\n",
    "vacant_parcels_proj = vacant_parcels.to_crs(mtc_crs)"
   ]
  },
  {
   "cell_type": "code",
   "execution_count": 443,
   "metadata": {},
   "outputs": [],
   "source": [
    "#add parcel area in square feet\n",
    "vacant_parcels_proj['Parcel Area'] = round(vacant_parcels_proj.area*10.7639,0).astype('int')"
   ]
  },
  {
   "cell_type": "code",
   "execution_count": 444,
   "metadata": {
    "collapsed": true
   },
   "outputs": [],
   "source": [
    "vacant_parcels_proj['Value per SQFT'] = round(vacant_parcels_proj['Total Net Value']/vacant_parcels_proj['Parcel Area'],2).astype('int')"
   ]
  },
  {
   "cell_type": "code",
   "execution_count": 316,
   "metadata": {},
   "outputs": [],
   "source": [
    "#pull year from data\n",
    "vacant_parcels_proj['Year'] = vacant_parcels_proj['Latest Document Date'].str[6:10].fillna(0).astype('int')"
   ]
  },
  {
   "cell_type": "code",
   "execution_count": null,
   "metadata": {
    "collapsed": true
   },
   "outputs": [],
   "source": [
    "#add continuous variable for time that inludes day and month fractions\n",
    "vacant_parcels_proj['Timeline'] = ((vacant_parcels_proj['Latest Document Date'].str.split('/').str[0].fillna(0).astype('int'))/12) + ((vacant_parcels_proj['Latest Document Date'].fillna(0).str.split('/').str[1].fillna(0).astype('int'))/365) + vacant_parcels_proj['Latest Document Date'].str.split('/').str[2].str[:4].fillna(0).astype('int')"
   ]
  },
  {
   "cell_type": "code",
   "execution_count": 322,
   "metadata": {
    "collapsed": true
   },
   "outputs": [],
   "source": [
    "#add vacant land tax\n",
    "vacant_parcels_proj['Tax'] = (vacant_parcels_proj['Total Net Value']/100)*5"
   ]
  },
  {
   "cell_type": "code",
   "execution_count": null,
   "metadata": {
    "collapsed": true
   },
   "outputs": [],
   "source": [
    "#adding concatenated address field\n",
    "vacant_parcels_point['address'] = vacant_parcels_point['Situs Street Number'] + ' ' + vacant_parcels_point['Situs Street Name'] + ',' + vacant_parcels_point['Situs Zip'] "
   ]
  },
  {
   "cell_type": "code",
   "execution_count": 323,
   "metadata": {},
   "outputs": [
    {
     "data": {
      "text/html": [
       "<div>\n",
       "<style>\n",
       "    .dataframe thead tr:only-child th {\n",
       "        text-align: right;\n",
       "    }\n",
       "\n",
       "    .dataframe thead th {\n",
       "        text-align: left;\n",
       "    }\n",
       "\n",
       "    .dataframe tbody tr th {\n",
       "        vertical-align: top;\n",
       "    }\n",
       "</style>\n",
       "<table border=\"1\" class=\"dataframe\">\n",
       "  <thead>\n",
       "    <tr style=\"text-align: right;\">\n",
       "      <th></th>\n",
       "      <th>apn_sort</th>\n",
       "      <th>geometry</th>\n",
       "      <th>Situs Street Number</th>\n",
       "      <th>Situs Street Name</th>\n",
       "      <th>Situs City</th>\n",
       "      <th>Situs Zip</th>\n",
       "      <th>Land</th>\n",
       "      <th>Imps</th>\n",
       "      <th>Total Net Value</th>\n",
       "      <th>Latest Document Prefix</th>\n",
       "      <th>Latest Document Series</th>\n",
       "      <th>Latest Document Date</th>\n",
       "      <th>Use Code</th>\n",
       "      <th>Parcel Area</th>\n",
       "      <th>Value per SQFT</th>\n",
       "      <th>Year</th>\n",
       "      <th>Tax</th>\n",
       "    </tr>\n",
       "    <tr>\n",
       "      <th>index_right</th>\n",
       "      <th></th>\n",
       "      <th></th>\n",
       "      <th></th>\n",
       "      <th></th>\n",
       "      <th></th>\n",
       "      <th></th>\n",
       "      <th></th>\n",
       "      <th></th>\n",
       "      <th></th>\n",
       "      <th></th>\n",
       "      <th></th>\n",
       "      <th></th>\n",
       "      <th></th>\n",
       "      <th></th>\n",
       "      <th></th>\n",
       "      <th></th>\n",
       "      <th></th>\n",
       "    </tr>\n",
       "  </thead>\n",
       "  <tbody>\n",
       "    <tr>\n",
       "      <th>12</th>\n",
       "      <td>048 622603302</td>\n",
       "      <td>POLYGON ((576875.4203353269 4178708.951900872,...</td>\n",
       "      <td>10838</td>\n",
       "      <td>MONAN ST</td>\n",
       "      <td>OAKLAND</td>\n",
       "      <td>94603</td>\n",
       "      <td>14032</td>\n",
       "      <td>0</td>\n",
       "      <td>14032</td>\n",
       "      <td>1997</td>\n",
       "      <td>145142</td>\n",
       "      <td>06/12/1997 12:00:00 AM</td>\n",
       "      <td>1000</td>\n",
       "      <td>6324.0</td>\n",
       "      <td>2.22</td>\n",
       "      <td>1997</td>\n",
       "      <td>701.60</td>\n",
       "    </tr>\n",
       "    <tr>\n",
       "      <th>67</th>\n",
       "      <td>048 622603400</td>\n",
       "      <td>POLYGON ((576846.6307726398 4178727.949992827,...</td>\n",
       "      <td>10830</td>\n",
       "      <td>MONAN ST</td>\n",
       "      <td>OAKLAND</td>\n",
       "      <td>94603</td>\n",
       "      <td>14032</td>\n",
       "      <td>0</td>\n",
       "      <td>14032</td>\n",
       "      <td>1997</td>\n",
       "      <td>145142</td>\n",
       "      <td>06/12/1997 12:00:00 AM</td>\n",
       "      <td>1000</td>\n",
       "      <td>5966.0</td>\n",
       "      <td>2.35</td>\n",
       "      <td>1997</td>\n",
       "      <td>701.60</td>\n",
       "    </tr>\n",
       "    <tr>\n",
       "      <th>102</th>\n",
       "      <td>048 622603101</td>\n",
       "      <td>POLYGON ((576870.9591329744 4178685.211316607,...</td>\n",
       "      <td>nan</td>\n",
       "      <td>MONAN ST</td>\n",
       "      <td>OAKLAND</td>\n",
       "      <td>94603</td>\n",
       "      <td>14032</td>\n",
       "      <td>0</td>\n",
       "      <td>14032</td>\n",
       "      <td>1997</td>\n",
       "      <td>145142</td>\n",
       "      <td>06/12/1997 12:00:00 AM</td>\n",
       "      <td>1000</td>\n",
       "      <td>5161.0</td>\n",
       "      <td>2.72</td>\n",
       "      <td>1997</td>\n",
       "      <td>701.60</td>\n",
       "    </tr>\n",
       "    <tr>\n",
       "      <th>113</th>\n",
       "      <td>048 633000704</td>\n",
       "      <td>POLYGON ((577363.9377534282 4178597.649142545,...</td>\n",
       "      <td>nan</td>\n",
       "      <td>GRASS VALLEY RD</td>\n",
       "      <td>OAKLAND</td>\n",
       "      <td>94603</td>\n",
       "      <td>81443</td>\n",
       "      <td>0</td>\n",
       "      <td>81443</td>\n",
       "      <td>2006</td>\n",
       "      <td>135203</td>\n",
       "      <td>04/06/2006 12:00:00 AM</td>\n",
       "      <td>1000</td>\n",
       "      <td>20065.0</td>\n",
       "      <td>4.06</td>\n",
       "      <td>2006</td>\n",
       "      <td>4072.15</td>\n",
       "    </tr>\n",
       "    <tr>\n",
       "      <th>131</th>\n",
       "      <td>048 622900200</td>\n",
       "      <td>POLYGON ((576753.4359862545 4178862.745037626,...</td>\n",
       "      <td>nan</td>\n",
       "      <td>MONAN ST</td>\n",
       "      <td>OAKLAND</td>\n",
       "      <td>94603</td>\n",
       "      <td>22274</td>\n",
       "      <td>0</td>\n",
       "      <td>22274</td>\n",
       "      <td>2001</td>\n",
       "      <td>382779</td>\n",
       "      <td>10/08/2001 12:00:00 AM</td>\n",
       "      <td>1000</td>\n",
       "      <td>7293.0</td>\n",
       "      <td>3.05</td>\n",
       "      <td>2001</td>\n",
       "      <td>1113.70</td>\n",
       "    </tr>\n",
       "  </tbody>\n",
       "</table>\n",
       "</div>"
      ],
      "text/plain": [
       "                  apn_sort                                           geometry  \\\n",
       "index_right                                                                     \n",
       "12           048 622603302  POLYGON ((576875.4203353269 4178708.951900872,...   \n",
       "67           048 622603400  POLYGON ((576846.6307726398 4178727.949992827,...   \n",
       "102          048 622603101  POLYGON ((576870.9591329744 4178685.211316607,...   \n",
       "113          048 633000704  POLYGON ((577363.9377534282 4178597.649142545,...   \n",
       "131          048 622900200  POLYGON ((576753.4359862545 4178862.745037626,...   \n",
       "\n",
       "            Situs Street Number Situs Street Name Situs City  Situs Zip  \\\n",
       "index_right                                                               \n",
       "12                        10838          MONAN ST    OAKLAND      94603   \n",
       "67                        10830          MONAN ST    OAKLAND      94603   \n",
       "102                         nan          MONAN ST    OAKLAND      94603   \n",
       "113                         nan   GRASS VALLEY RD    OAKLAND      94603   \n",
       "131                         nan          MONAN ST    OAKLAND      94603   \n",
       "\n",
       "              Land  Imps  Total Net Value Latest Document Prefix  \\\n",
       "index_right                                                        \n",
       "12           14032     0            14032                   1997   \n",
       "67           14032     0            14032                   1997   \n",
       "102          14032     0            14032                   1997   \n",
       "113          81443     0            81443                   2006   \n",
       "131          22274     0            22274                   2001   \n",
       "\n",
       "            Latest Document Series    Latest Document Date Use Code  \\\n",
       "index_right                                                           \n",
       "12                          145142  06/12/1997 12:00:00 AM     1000   \n",
       "67                          145142  06/12/1997 12:00:00 AM     1000   \n",
       "102                         145142  06/12/1997 12:00:00 AM     1000   \n",
       "113                         135203  04/06/2006 12:00:00 AM     1000   \n",
       "131                         382779  10/08/2001 12:00:00 AM     1000   \n",
       "\n",
       "             Parcel Area  Value per SQFT  Year      Tax  \n",
       "index_right                                              \n",
       "12                6324.0            2.22  1997   701.60  \n",
       "67                5966.0            2.35  1997   701.60  \n",
       "102               5161.0            2.72  1997   701.60  \n",
       "113              20065.0            4.06  2006  4072.15  \n",
       "131               7293.0            3.05  2001  1113.70  "
      ]
     },
     "execution_count": 323,
     "metadata": {},
     "output_type": "execute_result"
    }
   ],
   "source": [
    "vacant_parcels_proj.head()"
   ]
  },
  {
   "cell_type": "code",
   "execution_count": 134,
   "metadata": {},
   "outputs": [],
   "source": [
    "#exporting to shapefile\n",
    "vacant_parcels_proj.to_file('data/vacant_parcels_proj.shp')\n",
    "\n",
    "#exporting to geojson\n",
    "#with open('data/vacant_parcels_proj.geojson', 'w') as f:\n",
    "#    f.write(vacant_parcels_proj.to_json())\n",
    "\n",
    "#export to csv\n",
    "#vacant_parcels_proj.to_csv('data/vacant_parcels.csv')"
   ]
  },
  {
   "cell_type": "markdown",
   "metadata": {},
   "source": [
    "## Clean and Load Census Data"
   ]
  },
  {
   "cell_type": "code",
   "execution_count": null,
   "metadata": {
    "collapsed": true
   },
   "outputs": [],
   "source": [
    "#census API data\n",
    "endpoint_url = \"https://api.census.gov/data/2015/acs/acs5/subject?get=S1903_C02_001E,S1101_C01_009E&for=tract:*&in=state:06%20county:001&key=716a1bb1957c238ee8cedf7262e227a3a3220d32\"\n",
    "response = requests.get(endpoint_url)\n",
    "results = response.text\n",
    "\n",
    "data = json.loads(results)\n",
    "print(type(data))\n",
    "pp.pprint(data)"
   ]
  },
  {
   "cell_type": "code",
   "execution_count": null,
   "metadata": {
    "collapsed": true
   },
   "outputs": [],
   "source": [
    "#put data into dataframe, rename columns and get rid of first row headers\n",
    "census = pd.DataFrame.from_records(data)\n",
    "census.columns = [\"income\",\"households\",\"state\",\"county\",\"tract\"]\n",
    "census = census.iloc[1:]\n",
    "census = census.drop(['state','county'], axis=1).reset_index()\n",
    "census = census.drop(['index'], axis = 1)\n",
    "census.head()"
   ]
  },
  {
   "cell_type": "code",
   "execution_count": null,
   "metadata": {
    "collapsed": true
   },
   "outputs": [],
   "source": [
    "#convert str to int for calculations\n",
    "census['households'] = census['households'].astype('int')\n",
    "census['income'] = census['income'].astype('int')"
   ]
  },
  {
   "cell_type": "markdown",
   "metadata": {},
   "source": [
    "## Tracts"
   ]
  },
  {
   "cell_type": "code",
   "execution_count": 18,
   "metadata": {},
   "outputs": [],
   "source": [
    "#load Alameda County census tract shapefile\n",
    "tracts = gpd.read_file('Alameda County US Census Tracts 2010/geo_export_90da157e-1183-4f96-ae48-e70be0e65a06.shp')"
   ]
  },
  {
   "cell_type": "code",
   "execution_count": 19,
   "metadata": {
    "collapsed": true
   },
   "outputs": [],
   "source": [
    "#drop unwanted fields\n",
    "tracts = tracts.drop(['funcstat10', 'geoid10', 'countyfp10', 'namelsad10', 'awater10', 'statefp10', 'intptlat10', 'intptlon10', 'aland10', 'mtfcc10', 'name10'],1)"
   ]
  },
  {
   "cell_type": "code",
   "execution_count": 301,
   "metadata": {
    "collapsed": true
   },
   "outputs": [],
   "source": [
    "#load oakland city limits\n",
    "citylimits = gpd.read_file('City of Oakland City Limits/geo_export_d9d8cc59-2c85-415c-bc13-d26992faaab8.shp')"
   ]
  },
  {
   "cell_type": "code",
   "execution_count": 21,
   "metadata": {
    "collapsed": true
   },
   "outputs": [],
   "source": [
    "#get tracts for oakland\n",
    "oakland_tracts = gpd.sjoin(tracts, citylimits, how=\"inner\", op='intersects')\n",
    "oakland_tracts = oakland_tracts.drop(['index_right','shape_area', 'shape_leng', 'name', 'objectid_1', 'shape_le_1', 'id','objectid'],1)"
   ]
  },
  {
   "cell_type": "code",
   "execution_count": 81,
   "metadata": {
    "collapsed": true
   },
   "outputs": [],
   "source": [
    "#get rid of tract 990000 since it has no housholds\n",
    "oakland_tracts = oakland_tracts[oakland_tracts['tractce10'] != '990000']"
   ]
  },
  {
   "cell_type": "code",
   "execution_count": 91,
   "metadata": {
    "collapsed": true
   },
   "outputs": [],
   "source": [
    "#merge with census data\n",
    "oakland_census = pd.merge(oakland_tracts, census, left_on=\"tractce10\", right_on=\"tract\", how=\"inner\")"
   ]
  },
  {
   "cell_type": "code",
   "execution_count": 294,
   "metadata": {
    "collapsed": true
   },
   "outputs": [],
   "source": [
    "#project to MTC CRS\n",
    "oakland_census = oakland_census.to_crs(mtc_crs)"
   ]
  },
  {
   "cell_type": "code",
   "execution_count": 155,
   "metadata": {},
   "outputs": [
    {
     "data": {
      "text/html": [
       "<div>\n",
       "<style>\n",
       "    .dataframe thead tr:only-child th {\n",
       "        text-align: right;\n",
       "    }\n",
       "\n",
       "    .dataframe thead th {\n",
       "        text-align: left;\n",
       "    }\n",
       "\n",
       "    .dataframe tbody tr th {\n",
       "        vertical-align: top;\n",
       "    }\n",
       "</style>\n",
       "<table border=\"1\" class=\"dataframe\">\n",
       "  <thead>\n",
       "    <tr style=\"text-align: right;\">\n",
       "      <th></th>\n",
       "      <th>tractce10</th>\n",
       "      <th>geometry</th>\n",
       "      <th>income</th>\n",
       "      <th>households</th>\n",
       "      <th>tract</th>\n",
       "    </tr>\n",
       "  </thead>\n",
       "  <tbody>\n",
       "    <tr>\n",
       "      <th>0</th>\n",
       "      <td>405800</td>\n",
       "      <td>POLYGON ((-122.2284180000002 37.79137600000006...</td>\n",
       "      <td>43278</td>\n",
       "      <td>1365</td>\n",
       "      <td>405800</td>\n",
       "    </tr>\n",
       "    <tr>\n",
       "      <th>1</th>\n",
       "      <td>432200</td>\n",
       "      <td>POLYGON ((-122.1612980000002 37.73726900000005...</td>\n",
       "      <td>61094</td>\n",
       "      <td>1666</td>\n",
       "      <td>432200</td>\n",
       "    </tr>\n",
       "    <tr>\n",
       "      <th>2</th>\n",
       "      <td>402900</td>\n",
       "      <td>POLYGON ((-122.2654490000002 37.80633800000005...</td>\n",
       "      <td>31319</td>\n",
       "      <td>851</td>\n",
       "      <td>402900</td>\n",
       "    </tr>\n",
       "    <tr>\n",
       "      <th>3</th>\n",
       "      <td>407300</td>\n",
       "      <td>POLYGON ((-122.2033600000002 37.76243500000005...</td>\n",
       "      <td>51042</td>\n",
       "      <td>720</td>\n",
       "      <td>407300</td>\n",
       "    </tr>\n",
       "    <tr>\n",
       "      <th>4</th>\n",
       "      <td>423800</td>\n",
       "      <td>POLYGON ((-122.2419250000002 37.85201700000005...</td>\n",
       "      <td>135278</td>\n",
       "      <td>1300</td>\n",
       "      <td>423800</td>\n",
       "    </tr>\n",
       "  </tbody>\n",
       "</table>\n",
       "</div>"
      ],
      "text/plain": [
       "  tractce10                                           geometry  income  \\\n",
       "0    405800  POLYGON ((-122.2284180000002 37.79137600000006...   43278   \n",
       "1    432200  POLYGON ((-122.1612980000002 37.73726900000005...   61094   \n",
       "2    402900  POLYGON ((-122.2654490000002 37.80633800000005...   31319   \n",
       "3    407300  POLYGON ((-122.2033600000002 37.76243500000005...   51042   \n",
       "4    423800  POLYGON ((-122.2419250000002 37.85201700000005...  135278   \n",
       "\n",
       "  households   tract  \n",
       "0       1365  405800  \n",
       "1       1666  432200  \n",
       "2        851  402900  \n",
       "3        720  407300  \n",
       "4       1300  423800  "
      ]
     },
     "execution_count": 155,
     "metadata": {},
     "output_type": "execute_result"
    }
   ],
   "source": [
    "oakland_census"
   ]
  },
  {
   "cell_type": "code",
   "execution_count": 453,
   "metadata": {},
   "outputs": [],
   "source": [
    "parcels_tracts = gpd.sjoin(oakland_census, vacant_parcels_proj, how=\"inner\", op='intersects')"
   ]
  },
  {
   "cell_type": "code",
   "execution_count": 454,
   "metadata": {},
   "outputs": [
    {
     "data": {
      "text/html": [
       "<div>\n",
       "<style>\n",
       "    .dataframe thead tr:only-child th {\n",
       "        text-align: right;\n",
       "    }\n",
       "\n",
       "    .dataframe thead th {\n",
       "        text-align: left;\n",
       "    }\n",
       "\n",
       "    .dataframe tbody tr th {\n",
       "        vertical-align: top;\n",
       "    }\n",
       "</style>\n",
       "<table border=\"1\" class=\"dataframe\">\n",
       "  <thead>\n",
       "    <tr style=\"text-align: right;\">\n",
       "      <th></th>\n",
       "      <th>tractce10</th>\n",
       "      <th>geometry</th>\n",
       "      <th>income</th>\n",
       "      <th>households</th>\n",
       "      <th>tract</th>\n",
       "      <th>index_right</th>\n",
       "      <th>apn_sort</th>\n",
       "      <th>Situs Street Number</th>\n",
       "      <th>Situs Street Name</th>\n",
       "      <th>Situs City</th>\n",
       "      <th>...</th>\n",
       "      <th>Total Net Value</th>\n",
       "      <th>Latest Document Prefix</th>\n",
       "      <th>Latest Document Series</th>\n",
       "      <th>Latest Document Date</th>\n",
       "      <th>Use Code</th>\n",
       "      <th>Parcel Area</th>\n",
       "      <th>Value per SQFT</th>\n",
       "      <th>Year</th>\n",
       "      <th>Tax</th>\n",
       "      <th>Timeline</th>\n",
       "    </tr>\n",
       "  </thead>\n",
       "  <tbody>\n",
       "    <tr>\n",
       "      <th>0</th>\n",
       "      <td>405800</td>\n",
       "      <td>POLYGON ((567934.8151053375 4182948.480363757,...</td>\n",
       "      <td>43278</td>\n",
       "      <td>1365</td>\n",
       "      <td>405800</td>\n",
       "      <td>93260</td>\n",
       "      <td>022 032300900</td>\n",
       "      <td>1400</td>\n",
       "      <td>E 23RD ST</td>\n",
       "      <td>OAKLAND</td>\n",
       "      <td>...</td>\n",
       "      <td>52812</td>\n",
       "      <td>2014</td>\n",
       "      <td>136870</td>\n",
       "      <td>06/06/2014 12:00:00 AM</td>\n",
       "      <td>1000</td>\n",
       "      <td>3148</td>\n",
       "      <td>16</td>\n",
       "      <td>2014</td>\n",
       "      <td>2640.60</td>\n",
       "      <td>2014.516438</td>\n",
       "    </tr>\n",
       "    <tr>\n",
       "      <th>0</th>\n",
       "      <td>405800</td>\n",
       "      <td>POLYGON ((567934.8151053375 4182948.480363757,...</td>\n",
       "      <td>43278</td>\n",
       "      <td>1365</td>\n",
       "      <td>405800</td>\n",
       "      <td>193208</td>\n",
       "      <td>022 032301100</td>\n",
       "      <td>1400</td>\n",
       "      <td>E 23RD ST</td>\n",
       "      <td>OAKLAND</td>\n",
       "      <td>...</td>\n",
       "      <td>52812</td>\n",
       "      <td>2014</td>\n",
       "      <td>136870</td>\n",
       "      <td>06/06/2014 12:00:00 AM</td>\n",
       "      <td>1000</td>\n",
       "      <td>3148</td>\n",
       "      <td>16</td>\n",
       "      <td>2014</td>\n",
       "      <td>2640.60</td>\n",
       "      <td>2014.516438</td>\n",
       "    </tr>\n",
       "    <tr>\n",
       "      <th>0</th>\n",
       "      <td>405800</td>\n",
       "      <td>POLYGON ((567934.8151053375 4182948.480363757,...</td>\n",
       "      <td>43278</td>\n",
       "      <td>1365</td>\n",
       "      <td>405800</td>\n",
       "      <td>85466</td>\n",
       "      <td>022 035301704</td>\n",
       "      <td>nan</td>\n",
       "      <td>WALLACE ST</td>\n",
       "      <td>OAKLAND</td>\n",
       "      <td>...</td>\n",
       "      <td>60049</td>\n",
       "      <td>2008</td>\n",
       "      <td>195307</td>\n",
       "      <td>06/20/2008 12:00:00 AM</td>\n",
       "      <td>1000</td>\n",
       "      <td>5324</td>\n",
       "      <td>11</td>\n",
       "      <td>2008</td>\n",
       "      <td>3002.45</td>\n",
       "      <td>2008.554795</td>\n",
       "    </tr>\n",
       "    <tr>\n",
       "      <th>0</th>\n",
       "      <td>405800</td>\n",
       "      <td>POLYGON ((567934.8151053375 4182948.480363757,...</td>\n",
       "      <td>43278</td>\n",
       "      <td>1365</td>\n",
       "      <td>405800</td>\n",
       "      <td>393009</td>\n",
       "      <td>022 034702100</td>\n",
       "      <td>2530</td>\n",
       "      <td>14TH AVE</td>\n",
       "      <td>OAKLAND</td>\n",
       "      <td>...</td>\n",
       "      <td>30899</td>\n",
       "      <td>nan</td>\n",
       "      <td>0</td>\n",
       "      <td>NaN</td>\n",
       "      <td>1000</td>\n",
       "      <td>2595</td>\n",
       "      <td>11</td>\n",
       "      <td>0</td>\n",
       "      <td>1544.95</td>\n",
       "      <td>0.000000</td>\n",
       "    </tr>\n",
       "    <tr>\n",
       "      <th>0</th>\n",
       "      <td>405800</td>\n",
       "      <td>POLYGON ((567934.8151053375 4182948.480363757,...</td>\n",
       "      <td>43278</td>\n",
       "      <td>1365</td>\n",
       "      <td>405800</td>\n",
       "      <td>393008</td>\n",
       "      <td>022 034702000</td>\n",
       "      <td>2530</td>\n",
       "      <td>14TH AVE</td>\n",
       "      <td>OAKLAND</td>\n",
       "      <td>...</td>\n",
       "      <td>31362</td>\n",
       "      <td>nan</td>\n",
       "      <td>0</td>\n",
       "      <td>NaN</td>\n",
       "      <td>1000</td>\n",
       "      <td>2635</td>\n",
       "      <td>11</td>\n",
       "      <td>0</td>\n",
       "      <td>1568.10</td>\n",
       "      <td>0.000000</td>\n",
       "    </tr>\n",
       "  </tbody>\n",
       "</table>\n",
       "<p>5 rows × 23 columns</p>\n",
       "</div>"
      ],
      "text/plain": [
       "  tractce10                                           geometry  income  \\\n",
       "0    405800  POLYGON ((567934.8151053375 4182948.480363757,...   43278   \n",
       "0    405800  POLYGON ((567934.8151053375 4182948.480363757,...   43278   \n",
       "0    405800  POLYGON ((567934.8151053375 4182948.480363757,...   43278   \n",
       "0    405800  POLYGON ((567934.8151053375 4182948.480363757,...   43278   \n",
       "0    405800  POLYGON ((567934.8151053375 4182948.480363757,...   43278   \n",
       "\n",
       "   households   tract  index_right       apn_sort Situs Street Number  \\\n",
       "0        1365  405800        93260  022 032300900                1400   \n",
       "0        1365  405800       193208  022 032301100                1400   \n",
       "0        1365  405800        85466  022 035301704                 nan   \n",
       "0        1365  405800       393009  022 034702100                2530   \n",
       "0        1365  405800       393008  022 034702000                2530   \n",
       "\n",
       "  Situs Street Name Situs City     ...       Total Net Value  \\\n",
       "0         E 23RD ST    OAKLAND     ...                 52812   \n",
       "0         E 23RD ST    OAKLAND     ...                 52812   \n",
       "0        WALLACE ST    OAKLAND     ...                 60049   \n",
       "0          14TH AVE    OAKLAND     ...                 30899   \n",
       "0          14TH AVE    OAKLAND     ...                 31362   \n",
       "\n",
       "   Latest Document Prefix  Latest Document Series    Latest Document Date  \\\n",
       "0                    2014                  136870  06/06/2014 12:00:00 AM   \n",
       "0                    2014                  136870  06/06/2014 12:00:00 AM   \n",
       "0                    2008                  195307  06/20/2008 12:00:00 AM   \n",
       "0                     nan                       0                     NaN   \n",
       "0                     nan                       0                     NaN   \n",
       "\n",
       "  Use Code Parcel Area Value per SQFT  Year      Tax     Timeline  \n",
       "0     1000        3148             16  2014  2640.60  2014.516438  \n",
       "0     1000        3148             16  2014  2640.60  2014.516438  \n",
       "0     1000        5324             11  2008  3002.45  2008.554795  \n",
       "0     1000        2595             11     0  1544.95     0.000000  \n",
       "0     1000        2635             11     0  1568.10     0.000000  \n",
       "\n",
       "[5 rows x 23 columns]"
      ]
     },
     "execution_count": 454,
     "metadata": {},
     "output_type": "execute_result"
    }
   ],
   "source": [
    "parcels_tracts.head()"
   ]
  },
  {
   "cell_type": "code",
   "execution_count": 296,
   "metadata": {
    "collapsed": true
   },
   "outputs": [],
   "source": [
    "parcels_tracts.to_file('data/parcels_tracts.shp')"
   ]
  },
  {
   "cell_type": "code",
   "execution_count": 93,
   "metadata": {
    "collapsed": true
   },
   "outputs": [],
   "source": [
    "#file was too big, trimming geo and re-merging with original tracts to cut excess weight from sjoin\n",
    "oakland_census2 = oakland_census.drop(['geometry'],1)"
   ]
  },
  {
   "cell_type": "code",
   "execution_count": 94,
   "metadata": {},
   "outputs": [],
   "source": [
    "census_tracts2 = pd.merge(tracts, oakland_census2, on=\"tractce10\", how=\"inner\")"
   ]
  },
  {
   "cell_type": "code",
   "execution_count": 92,
   "metadata": {},
   "outputs": [
    {
     "data": {
      "text/html": [
       "<div>\n",
       "<style>\n",
       "    .dataframe thead tr:only-child th {\n",
       "        text-align: right;\n",
       "    }\n",
       "\n",
       "    .dataframe thead th {\n",
       "        text-align: left;\n",
       "    }\n",
       "\n",
       "    .dataframe tbody tr th {\n",
       "        vertical-align: top;\n",
       "    }\n",
       "</style>\n",
       "<table border=\"1\" class=\"dataframe\">\n",
       "  <thead>\n",
       "    <tr style=\"text-align: right;\">\n",
       "      <th></th>\n",
       "      <th>tractce10</th>\n",
       "      <th>geometry</th>\n",
       "      <th>income</th>\n",
       "      <th>households</th>\n",
       "      <th>tract</th>\n",
       "    </tr>\n",
       "  </thead>\n",
       "  <tbody>\n",
       "    <tr>\n",
       "      <th>0</th>\n",
       "      <td>405800</td>\n",
       "      <td>POLYGON ((-122.2284180000002 37.79137600000006...</td>\n",
       "      <td>43278</td>\n",
       "      <td>1365</td>\n",
       "      <td>405800</td>\n",
       "    </tr>\n",
       "    <tr>\n",
       "      <th>1</th>\n",
       "      <td>432200</td>\n",
       "      <td>POLYGON ((-122.1612980000002 37.73726900000005...</td>\n",
       "      <td>61094</td>\n",
       "      <td>1666</td>\n",
       "      <td>432200</td>\n",
       "    </tr>\n",
       "    <tr>\n",
       "      <th>2</th>\n",
       "      <td>402900</td>\n",
       "      <td>POLYGON ((-122.2654490000002 37.80633800000005...</td>\n",
       "      <td>31319</td>\n",
       "      <td>851</td>\n",
       "      <td>402900</td>\n",
       "    </tr>\n",
       "    <tr>\n",
       "      <th>3</th>\n",
       "      <td>407300</td>\n",
       "      <td>POLYGON ((-122.2033600000002 37.76243500000005...</td>\n",
       "      <td>51042</td>\n",
       "      <td>720</td>\n",
       "      <td>407300</td>\n",
       "    </tr>\n",
       "    <tr>\n",
       "      <th>4</th>\n",
       "      <td>423800</td>\n",
       "      <td>POLYGON ((-122.2419250000002 37.85201700000005...</td>\n",
       "      <td>135278</td>\n",
       "      <td>1300</td>\n",
       "      <td>423800</td>\n",
       "    </tr>\n",
       "  </tbody>\n",
       "</table>\n",
       "</div>"
      ],
      "text/plain": [
       "  tractce10                                           geometry  income  \\\n",
       "0    405800  POLYGON ((-122.2284180000002 37.79137600000006...   43278   \n",
       "1    432200  POLYGON ((-122.1612980000002 37.73726900000005...   61094   \n",
       "2    402900  POLYGON ((-122.2654490000002 37.80633800000005...   31319   \n",
       "3    407300  POLYGON ((-122.2033600000002 37.76243500000005...   51042   \n",
       "4    423800  POLYGON ((-122.2419250000002 37.85201700000005...  135278   \n",
       "\n",
       "  households   tract  \n",
       "0       1365  405800  \n",
       "1       1666  432200  \n",
       "2        851  402900  \n",
       "3        720  407300  \n",
       "4       1300  423800  "
      ]
     },
     "execution_count": 92,
     "metadata": {},
     "output_type": "execute_result"
    }
   ],
   "source": [
    "census_tracts2.head()"
   ]
  },
  {
   "cell_type": "code",
   "execution_count": 31,
   "metadata": {},
   "outputs": [],
   "source": [
    "#projecting to mtc crs\n",
    "census_tracts_proj = census_tracts.to_crs(mtc_crs)"
   ]
  },
  {
   "cell_type": "code",
   "execution_count": 95,
   "metadata": {
    "collapsed": true
   },
   "outputs": [],
   "source": [
    "#export to shapefile\n",
    "census_tracts2.to_file('data/census_tracts2.shp')\n",
    "\n",
    "#export to csv\n",
    "#census_tracts_proj.to_csv('data/census_tracts.csv')"
   ]
  },
  {
   "cell_type": "markdown",
   "metadata": {},
   "source": [
    "## Point Data"
   ]
  },
  {
   "cell_type": "code",
   "execution_count": null,
   "metadata": {},
   "outputs": [],
   "source": [
    "#getting point data for parcels\n",
    "vacant_parcels_proj['point']=vacant_parcels_proj['geometry'].centroid\n",
    "vacant_parcels_proj['geometry'] = vacant_parcels_proj['Point']\n",
    "vacant_parcels_point = vacant_parcels_proj.drop(['Point','point'],1)\n",
    "vacant_parcels_point.head()"
   ]
  },
  {
   "cell_type": "code",
   "execution_count": 306,
   "metadata": {},
   "outputs": [
    {
     "data": {
      "text/html": [
       "<div>\n",
       "<style>\n",
       "    .dataframe thead tr:only-child th {\n",
       "        text-align: right;\n",
       "    }\n",
       "\n",
       "    .dataframe thead th {\n",
       "        text-align: left;\n",
       "    }\n",
       "\n",
       "    .dataframe tbody tr th {\n",
       "        vertical-align: top;\n",
       "    }\n",
       "</style>\n",
       "<table border=\"1\" class=\"dataframe\">\n",
       "  <thead>\n",
       "    <tr style=\"text-align: right;\">\n",
       "      <th></th>\n",
       "      <th>apn_sort</th>\n",
       "      <th>geometry</th>\n",
       "      <th>Situs Street Number</th>\n",
       "      <th>Situs Street Name</th>\n",
       "      <th>Situs City</th>\n",
       "      <th>Situs Zip</th>\n",
       "      <th>Land</th>\n",
       "      <th>Imps</th>\n",
       "      <th>Total Net Value</th>\n",
       "      <th>Latest Document Prefix</th>\n",
       "      <th>Latest Document Series</th>\n",
       "      <th>Latest Document Date</th>\n",
       "      <th>Use Code</th>\n",
       "      <th>address</th>\n",
       "    </tr>\n",
       "    <tr>\n",
       "      <th>index_right</th>\n",
       "      <th></th>\n",
       "      <th></th>\n",
       "      <th></th>\n",
       "      <th></th>\n",
       "      <th></th>\n",
       "      <th></th>\n",
       "      <th></th>\n",
       "      <th></th>\n",
       "      <th></th>\n",
       "      <th></th>\n",
       "      <th></th>\n",
       "      <th></th>\n",
       "      <th></th>\n",
       "      <th></th>\n",
       "    </tr>\n",
       "  </thead>\n",
       "  <tbody>\n",
       "    <tr>\n",
       "      <th>12</th>\n",
       "      <td>048 622603302</td>\n",
       "      <td>POINT (576855.1953834846 4178702.69939271)</td>\n",
       "      <td>10838</td>\n",
       "      <td>MONAN ST</td>\n",
       "      <td>OAKLAND</td>\n",
       "      <td>94603</td>\n",
       "      <td>14032</td>\n",
       "      <td>0</td>\n",
       "      <td>14032</td>\n",
       "      <td>1997</td>\n",
       "      <td>145142</td>\n",
       "      <td>06/12/1997 12:00:00 AM</td>\n",
       "      <td>1000</td>\n",
       "      <td>10838 MONAN ST</td>\n",
       "    </tr>\n",
       "    <tr>\n",
       "      <th>67</th>\n",
       "      <td>048 622603400</td>\n",
       "      <td>POINT (576858.2631909454 4178718.904293639)</td>\n",
       "      <td>10830</td>\n",
       "      <td>MONAN ST</td>\n",
       "      <td>OAKLAND</td>\n",
       "      <td>94603</td>\n",
       "      <td>14032</td>\n",
       "      <td>0</td>\n",
       "      <td>14032</td>\n",
       "      <td>1997</td>\n",
       "      <td>145142</td>\n",
       "      <td>06/12/1997 12:00:00 AM</td>\n",
       "      <td>1000</td>\n",
       "      <td>10830 MONAN ST</td>\n",
       "    </tr>\n",
       "    <tr>\n",
       "      <th>102</th>\n",
       "      <td>048 622603101</td>\n",
       "      <td>POINT (576851.9911700762 4178673.159964592)</td>\n",
       "      <td>nan</td>\n",
       "      <td>MONAN ST</td>\n",
       "      <td>OAKLAND</td>\n",
       "      <td>94603</td>\n",
       "      <td>14032</td>\n",
       "      <td>0</td>\n",
       "      <td>14032</td>\n",
       "      <td>1997</td>\n",
       "      <td>145142</td>\n",
       "      <td>06/12/1997 12:00:00 AM</td>\n",
       "      <td>1000</td>\n",
       "      <td>nan MONAN ST</td>\n",
       "    </tr>\n",
       "    <tr>\n",
       "      <th>113</th>\n",
       "      <td>048 633000704</td>\n",
       "      <td>POINT (577336.1958273546 4178611.179927636)</td>\n",
       "      <td>nan</td>\n",
       "      <td>GRASS VALLEY RD</td>\n",
       "      <td>OAKLAND</td>\n",
       "      <td>94603</td>\n",
       "      <td>81443</td>\n",
       "      <td>0</td>\n",
       "      <td>81443</td>\n",
       "      <td>2006</td>\n",
       "      <td>135203</td>\n",
       "      <td>04/06/2006 12:00:00 AM</td>\n",
       "      <td>1000</td>\n",
       "      <td>nan GRASS VALLEY RD</td>\n",
       "    </tr>\n",
       "    <tr>\n",
       "      <th>131</th>\n",
       "      <td>048 622900200</td>\n",
       "      <td>POINT (576731.1352867181 4178858.474991242)</td>\n",
       "      <td>nan</td>\n",
       "      <td>MONAN ST</td>\n",
       "      <td>OAKLAND</td>\n",
       "      <td>94603</td>\n",
       "      <td>22274</td>\n",
       "      <td>0</td>\n",
       "      <td>22274</td>\n",
       "      <td>2001</td>\n",
       "      <td>382779</td>\n",
       "      <td>10/08/2001 12:00:00 AM</td>\n",
       "      <td>1000</td>\n",
       "      <td>nan MONAN ST</td>\n",
       "    </tr>\n",
       "  </tbody>\n",
       "</table>\n",
       "</div>"
      ],
      "text/plain": [
       "                  apn_sort                                     geometry  \\\n",
       "index_right                                                               \n",
       "12           048 622603302   POINT (576855.1953834846 4178702.69939271)   \n",
       "67           048 622603400  POINT (576858.2631909454 4178718.904293639)   \n",
       "102          048 622603101  POINT (576851.9911700762 4178673.159964592)   \n",
       "113          048 633000704  POINT (577336.1958273546 4178611.179927636)   \n",
       "131          048 622900200  POINT (576731.1352867181 4178858.474991242)   \n",
       "\n",
       "            Situs Street Number Situs Street Name Situs City  Situs Zip  \\\n",
       "index_right                                                               \n",
       "12                        10838          MONAN ST    OAKLAND      94603   \n",
       "67                        10830          MONAN ST    OAKLAND      94603   \n",
       "102                         nan          MONAN ST    OAKLAND      94603   \n",
       "113                         nan   GRASS VALLEY RD    OAKLAND      94603   \n",
       "131                         nan          MONAN ST    OAKLAND      94603   \n",
       "\n",
       "              Land  Imps  Total Net Value Latest Document Prefix  \\\n",
       "index_right                                                        \n",
       "12           14032     0            14032                   1997   \n",
       "67           14032     0            14032                   1997   \n",
       "102          14032     0            14032                   1997   \n",
       "113          81443     0            81443                   2006   \n",
       "131          22274     0            22274                   2001   \n",
       "\n",
       "            Latest Document Series    Latest Document Date Use Code  \\\n",
       "index_right                                                           \n",
       "12                          145142  06/12/1997 12:00:00 AM     1000   \n",
       "67                          145142  06/12/1997 12:00:00 AM     1000   \n",
       "102                         145142  06/12/1997 12:00:00 AM     1000   \n",
       "113                         135203  04/06/2006 12:00:00 AM     1000   \n",
       "131                         382779  10/08/2001 12:00:00 AM     1000   \n",
       "\n",
       "                         address  \n",
       "index_right                       \n",
       "12                10838 MONAN ST  \n",
       "67                10830 MONAN ST  \n",
       "102                 nan MONAN ST  \n",
       "113          nan GRASS VALLEY RD  \n",
       "131                 nan MONAN ST  "
      ]
     },
     "execution_count": 306,
     "metadata": {},
     "output_type": "execute_result"
    }
   ],
   "source": [
    "vacant_parcels_point.head()"
   ]
  },
  {
   "cell_type": "code",
   "execution_count": 109,
   "metadata": {},
   "outputs": [],
   "source": [
    "vacant_parcels_point.to_file('data/vacant_parcels_point.shp')"
   ]
  },
  {
   "cell_type": "code",
   "execution_count": 309,
   "metadata": {
    "collapsed": true
   },
   "outputs": [],
   "source": [
    "#grab lat(y)/lon(x) from centroid point data (just in case I need it)\n",
    "vacant_parcels_point['lon'] = vacant_parcels_point.to_crs(crs_4326).geometry.centroid.x\n",
    "vacant_parcels_point['lat'] = vacant_parcels_point.to_crs(crs_4326).geometry.centroid.y"
   ]
  },
  {
   "cell_type": "markdown",
   "metadata": {},
   "source": [
    "#### BART"
   ]
  },
  {
   "cell_type": "code",
   "execution_count": 468,
   "metadata": {},
   "outputs": [],
   "source": [
    "#load bart and change crs\n",
    "bart = gpd.read_file('BART_Sta_13/BART_Sta_13.shp').to_crs(crs_4326)"
   ]
  },
  {
   "cell_type": "code",
   "execution_count": 472,
   "metadata": {
    "collapsed": true
   },
   "outputs": [],
   "source": [
    "#merge with Oakland shapefile to filter out non-oakland stops\n",
    "oakland_bart = gpd.sjoin(bart, citylimits, how=\"inner\", op='intersects').to_crs(mtc_crs)"
   ]
  },
  {
   "cell_type": "code",
   "execution_count": 474,
   "metadata": {
    "collapsed": true
   },
   "outputs": [],
   "source": [
    "#calculate minimum distance to bart\n",
    "vacant_parcels_proj['bart_distance'] = vacant_parcels_proj.geometry.apply(lambda g: bart_oakland.distance(g).min())\n"
   ]
  },
  {
   "cell_type": "code",
   "execution_count": 476,
   "metadata": {},
   "outputs": [
    {
     "data": {
      "image/png": "[encoded data removed]",
      "text/plain": [
       "<matplotlib.figure.Figure at 0x17630dfd0>"
      ]
     },
     "metadata": {},
     "output_type": "display_data"
    }
   ],
   "source": [
    "#plot to verify that all the stations made it\n",
    "base = vacant_parcels_proj.plot(color='white', edgecolor='gray', linewidth=.1)\n",
    "oakland_bart.plot(ax=base, color='blue', markersize = 20);"
   ]
  },
  {
   "cell_type": "code",
   "execution_count": 492,
   "metadata": {},
   "outputs": [],
   "source": [
    "#generate 1/2 mile buffer\n",
    "bart_buffer = oakland_bart['geometry'].buffer(805)"
   ]
  },
  {
   "cell_type": "code",
   "execution_count": 493,
   "metadata": {},
   "outputs": [],
   "source": [
    "bart_buffer = gpd.GeoDataFrame({'geometry': bart_buffer})"
   ]
  },
  {
   "cell_type": "code",
   "execution_count": 549,
   "metadata": {},
   "outputs": [
    {
     "name": "stdout",
     "output_type": "stream",
     "text": [
      "Warning: CRS does not match!\n"
     ]
    }
   ],
   "source": [
    "parcels_bart = gpd.sjoin(bart_buffer, vacant_parcels_point, how=\"inner\", op='intersects')"
   ]
  },
  {
   "cell_type": "code",
   "execution_count": 550,
   "metadata": {},
   "outputs": [
    {
     "data": {
      "text/plain": [
       "(598, 16)"
      ]
     },
     "execution_count": 550,
     "metadata": {},
     "output_type": "execute_result"
    }
   ],
   "source": [
    "parcels_bart.shape"
   ]
  },
  {
   "cell_type": "markdown",
   "metadata": {},
   "source": [
    "#### Schools"
   ]
  },
  {
   "cell_type": "code",
   "execution_count": 510,
   "metadata": {
    "collapsed": true
   },
   "outputs": [],
   "source": [
    "#loading schools and splitting lat and long into separate columns\n",
    "schools = pd.read_csv('Map_of_Oakland_Public_Schools.csv')\n",
    "schools['LATITUDE'] = schools['ADDRESS'].str.split('\\n').str[2].str.split(',').str[0].str[1:].astype('float')\n",
    "schools['LONGITUDE'] = schools['ADDRESS'].str.split('\\n').str[2].str.split(',').str[1].str[:-1].astype('float')"
   ]
  },
  {
   "cell_type": "code",
   "execution_count": 558,
   "metadata": {},
   "outputs": [
    {
     "data": {
      "text/html": [
       "<div>\n",
       "<style>\n",
       "    .dataframe thead tr:only-child th {\n",
       "        text-align: right;\n",
       "    }\n",
       "\n",
       "    .dataframe thead th {\n",
       "        text-align: left;\n",
       "    }\n",
       "\n",
       "    .dataframe tbody tr th {\n",
       "        vertical-align: top;\n",
       "    }\n",
       "</style>\n",
       "<table border=\"1\" class=\"dataframe\">\n",
       "  <thead>\n",
       "    <tr style=\"text-align: right;\">\n",
       "      <th></th>\n",
       "      <th>TYPE</th>\n",
       "      <th>SCHOOL</th>\n",
       "      <th>ADDRESS</th>\n",
       "      <th>LATITUDE</th>\n",
       "      <th>LONGITUDE</th>\n",
       "      <th>geometry</th>\n",
       "    </tr>\n",
       "    <tr>\n",
       "      <th>index_right</th>\n",
       "      <th></th>\n",
       "      <th></th>\n",
       "      <th></th>\n",
       "      <th></th>\n",
       "      <th></th>\n",
       "      <th></th>\n",
       "    </tr>\n",
       "  </thead>\n",
       "  <tbody>\n",
       "    <tr>\n",
       "      <th>0</th>\n",
       "      <td>Charter</td>\n",
       "      <td>CONSERVATORY OF INSTRUMENTAL AND VOCAL ARTS (C...</td>\n",
       "      <td>3800 Mountain Blvd.\\nOakland, CA\\n(37.79885815...</td>\n",
       "      <td>37.798858</td>\n",
       "      <td>-122.184874</td>\n",
       "      <td>POINT (-122.1848741187958 37.79885815810979)</td>\n",
       "    </tr>\n",
       "    <tr>\n",
       "      <th>1</th>\n",
       "      <td>Charter</td>\n",
       "      <td>ARISE HIGH SCHOOL</td>\n",
       "      <td>3301 E. 12th Street, Suite 205\\nOakland, CA\\n(...</td>\n",
       "      <td>37.776168</td>\n",
       "      <td>-122.224984</td>\n",
       "      <td>POINT (-122.2249838813026 37.77616826331058)</td>\n",
       "    </tr>\n",
       "    <tr>\n",
       "      <th>2</th>\n",
       "      <td>Middle</td>\n",
       "      <td>ALLIANCE ACADEMY</td>\n",
       "      <td>1800 98th Ave\\nOakland, CA\\n(37.74664352108863...</td>\n",
       "      <td>37.746644</td>\n",
       "      <td>-122.165602</td>\n",
       "      <td>POINT (-122.165601647708 37.74664352108863)</td>\n",
       "    </tr>\n",
       "    <tr>\n",
       "      <th>3</th>\n",
       "      <td>High</td>\n",
       "      <td>BUNCHE ACADEMY</td>\n",
       "      <td>1240 18th St\\nOakland, CA\\n(37.813003268562255...</td>\n",
       "      <td>37.813003</td>\n",
       "      <td>-122.286891</td>\n",
       "      <td>POINT (-122.2868910674102 37.81300326856226)</td>\n",
       "    </tr>\n",
       "    <tr>\n",
       "      <th>4</th>\n",
       "      <td>Elementary</td>\n",
       "      <td>INTERNATIONAL COMM. ELEMENTARY</td>\n",
       "      <td>2825 International Blvd\\nOakland, CA\\n(37.7798...</td>\n",
       "      <td>37.779820</td>\n",
       "      <td>-122.230011</td>\n",
       "      <td>POINT (-122.2300110914464 37.77981951074952)</td>\n",
       "    </tr>\n",
       "  </tbody>\n",
       "</table>\n",
       "</div>"
      ],
      "text/plain": [
       "                   TYPE                                             SCHOOL  \\\n",
       "index_right                                                                  \n",
       "0               Charter  CONSERVATORY OF INSTRUMENTAL AND VOCAL ARTS (C...   \n",
       "1               Charter                                  ARISE HIGH SCHOOL   \n",
       "2                Middle                                   ALLIANCE ACADEMY   \n",
       "3                  High                                     BUNCHE ACADEMY   \n",
       "4            Elementary                     INTERNATIONAL COMM. ELEMENTARY   \n",
       "\n",
       "                                                       ADDRESS   LATITUDE  \\\n",
       "index_right                                                                 \n",
       "0            3800 Mountain Blvd.\\nOakland, CA\\n(37.79885815...  37.798858   \n",
       "1            3301 E. 12th Street, Suite 205\\nOakland, CA\\n(...  37.776168   \n",
       "2            1800 98th Ave\\nOakland, CA\\n(37.74664352108863...  37.746644   \n",
       "3            1240 18th St\\nOakland, CA\\n(37.813003268562255...  37.813003   \n",
       "4            2825 International Blvd\\nOakland, CA\\n(37.7798...  37.779820   \n",
       "\n",
       "              LONGITUDE                                      geometry  \n",
       "index_right                                                            \n",
       "0           -122.184874  POINT (-122.1848741187958 37.79885815810979)  \n",
       "1           -122.224984  POINT (-122.2249838813026 37.77616826331058)  \n",
       "2           -122.165602   POINT (-122.165601647708 37.74664352108863)  \n",
       "3           -122.286891  POINT (-122.2868910674102 37.81300326856226)  \n",
       "4           -122.230011  POINT (-122.2300110914464 37.77981951074952)  "
      ]
     },
     "execution_count": 558,
     "metadata": {},
     "output_type": "execute_result"
    }
   ],
   "source": [
    "#geocoding schools as point data\n",
    "geometry = [Point(xy) for xy in zip(schools.LONGITUDE, schools.LATITUDE)]\n",
    "geoschools = GeoDataFrame(schools, crs=mtc_crs, geometry=geometry)\n",
    "geoschools = geoschools.drop(['PHONE'],1)\n",
    "geoschools.head()"
   ]
  },
  {
   "cell_type": "markdown",
   "metadata": {},
   "source": [
    "#### Parks"
   ]
  },
  {
   "cell_type": "code",
   "execution_count": 261,
   "metadata": {},
   "outputs": [
    {
     "data": {
      "text/html": [
       "<div>\n",
       "<style>\n",
       "    .dataframe thead tr:only-child th {\n",
       "        text-align: right;\n",
       "    }\n",
       "\n",
       "    .dataframe thead th {\n",
       "        text-align: left;\n",
       "    }\n",
       "\n",
       "    .dataframe tbody tr th {\n",
       "        vertical-align: top;\n",
       "    }\n",
       "</style>\n",
       "<table border=\"1\" class=\"dataframe\">\n",
       "  <thead>\n",
       "    <tr style=\"text-align: right;\">\n",
       "      <th></th>\n",
       "      <th>Parks and Recreation Facilities</th>\n",
       "      <th>Facility Type</th>\n",
       "      <th>Latitude</th>\n",
       "      <th>Longitude</th>\n",
       "    </tr>\n",
       "  </thead>\n",
       "  <tbody>\n",
       "    <tr>\n",
       "      <th>0</th>\n",
       "      <td>Lake Merritt Sail Boat House</td>\n",
       "      <td>Rental Facility</td>\n",
       "      <td>37.806761</td>\n",
       "      <td>-122.256625</td>\n",
       "    </tr>\n",
       "    <tr>\n",
       "      <th>1</th>\n",
       "      <td>Brookdale</td>\n",
       "      <td>Tennis Court</td>\n",
       "      <td>37.805060</td>\n",
       "      <td>-122.273020</td>\n",
       "    </tr>\n",
       "    <tr>\n",
       "      <th>2</th>\n",
       "      <td>Allendale Park</td>\n",
       "      <td>Park</td>\n",
       "      <td>37.789919</td>\n",
       "      <td>-122.202924</td>\n",
       "    </tr>\n",
       "    <tr>\n",
       "      <th>3</th>\n",
       "      <td>Park Blvd Plaza Park</td>\n",
       "      <td>Park</td>\n",
       "      <td>37.800631</td>\n",
       "      <td>-122.247661</td>\n",
       "    </tr>\n",
       "    <tr>\n",
       "      <th>4</th>\n",
       "      <td>Rainbow</td>\n",
       "      <td>Recreation Center</td>\n",
       "      <td>37.765493</td>\n",
       "      <td>-122.200297</td>\n",
       "    </tr>\n",
       "  </tbody>\n",
       "</table>\n",
       "</div>"
      ],
      "text/plain": [
       "  Parks and Recreation Facilities      Facility Type   Latitude   Longitude\n",
       "0    Lake Merritt Sail Boat House    Rental Facility  37.806761 -122.256625\n",
       "1                       Brookdale       Tennis Court  37.805060 -122.273020\n",
       "2                  Allendale Park               Park  37.789919 -122.202924\n",
       "3            Park Blvd Plaza Park               Park  37.800631 -122.247661\n",
       "4                         Rainbow  Recreation Center  37.765493 -122.200297"
      ]
     },
     "execution_count": 261,
     "metadata": {},
     "output_type": "execute_result"
    }
   ],
   "source": [
    "#loading parks and splitting lat and long into separate columns\n",
    "parks = pd.read_csv('Map_of_Parks_and_Recreation_Facilities.csv')\n",
    "parks['Latitude'] = parks['Location 1'].str.split('\\n').str[2].str.split(',').str[0].str[1:].astype('float')\n",
    "parks['Longitude'] = parks['Location 1'].str.split('\\n').str[2].str.split(',').str[1].str[0:-1].astype('float')\n",
    "parks = parks.drop(['Phone Number','URL','Location 1'],1)\n",
    "parks.head()"
   ]
  },
  {
   "cell_type": "code",
   "execution_count": 198,
   "metadata": {},
   "outputs": [
    {
     "data": {
      "text/html": [
       "<div>\n",
       "<style>\n",
       "    .dataframe thead tr:only-child th {\n",
       "        text-align: right;\n",
       "    }\n",
       "\n",
       "    .dataframe thead th {\n",
       "        text-align: left;\n",
       "    }\n",
       "\n",
       "    .dataframe tbody tr th {\n",
       "        vertical-align: top;\n",
       "    }\n",
       "</style>\n",
       "<table border=\"1\" class=\"dataframe\">\n",
       "  <thead>\n",
       "    <tr style=\"text-align: right;\">\n",
       "      <th></th>\n",
       "      <th>Parks and Recreation Facilities</th>\n",
       "      <th>Facility Type</th>\n",
       "      <th>geometry</th>\n",
       "    </tr>\n",
       "  </thead>\n",
       "  <tbody>\n",
       "    <tr>\n",
       "      <th>0</th>\n",
       "      <td>Lake Merritt Sail Boat House</td>\n",
       "      <td>Rental Facility</td>\n",
       "      <td>POINT (-122.2566247980454 37.80676133380701)</td>\n",
       "    </tr>\n",
       "    <tr>\n",
       "      <th>1</th>\n",
       "      <td>Brookdale</td>\n",
       "      <td>Tennis Court</td>\n",
       "      <td>POINT (-122.2730199996731 37.80505999961946)</td>\n",
       "    </tr>\n",
       "    <tr>\n",
       "      <th>2</th>\n",
       "      <td>Allendale Park</td>\n",
       "      <td>Park</td>\n",
       "      <td>POINT (-122.2029235119239 37.78991889713853)</td>\n",
       "    </tr>\n",
       "    <tr>\n",
       "      <th>3</th>\n",
       "      <td>Park Blvd Plaza Park</td>\n",
       "      <td>Park</td>\n",
       "      <td>POINT (-122.2476606965575 37.80063109648487)</td>\n",
       "    </tr>\n",
       "    <tr>\n",
       "      <th>4</th>\n",
       "      <td>Rainbow</td>\n",
       "      <td>Recreation Center</td>\n",
       "      <td>POINT (-122.2002974915983 37.76549331082276)</td>\n",
       "    </tr>\n",
       "  </tbody>\n",
       "</table>\n",
       "</div>"
      ],
      "text/plain": [
       "  Parks and Recreation Facilities      Facility Type  \\\n",
       "0    Lake Merritt Sail Boat House    Rental Facility   \n",
       "1                       Brookdale       Tennis Court   \n",
       "2                  Allendale Park               Park   \n",
       "3            Park Blvd Plaza Park               Park   \n",
       "4                         Rainbow  Recreation Center   \n",
       "\n",
       "                                       geometry  \n",
       "0  POINT (-122.2566247980454 37.80676133380701)  \n",
       "1  POINT (-122.2730199996731 37.80505999961946)  \n",
       "2  POINT (-122.2029235119239 37.78991889713853)  \n",
       "3  POINT (-122.2476606965575 37.80063109648487)  \n",
       "4  POINT (-122.2002974915983 37.76549331082276)  "
      ]
     },
     "execution_count": 198,
     "metadata": {},
     "output_type": "execute_result"
    }
   ],
   "source": [
    "#geocoding parks as point data\n",
    "crs = {'init' :'epsg:4326'}\n",
    "geometry = [Point(xy) for xy in zip(parks.Longitude, parks.Latitude)]\n",
    "geoparks = GeoDataFrame(parks, crs=crs, geometry=geometry)\n",
    "geoparks.head()"
   ]
  },
  {
   "cell_type": "markdown",
   "metadata": {},
   "source": [
    "## Calculations and Charts"
   ]
  },
  {
   "cell_type": "code",
   "execution_count": 430,
   "metadata": {},
   "outputs": [],
   "source": [
    "import seaborn as sns\n",
    "sns.set(color_codes=True)\n",
    "from scipy.stats import norm\n",
    "\n",
    "import statsmodels.api as sm\n",
    "import matplotlib.pyplot as plt, matplotlib.cm as cm, matplotlib.font_manager as fm\n",
    "import matplotlib.mlab as mlab"
   ]
  },
  {
   "cell_type": "code",
   "execution_count": null,
   "metadata": {
    "collapsed": true
   },
   "outputs": [],
   "source": [
    "#filter timeline to remove and value to exclude extreme outliers\n",
    "year_clean = vacant_parcels_proj[(vacant_parcels_proj['Timeline'] > 1950) & (vacant_parcels_proj['Value per SQFT'] > 50)]"
   ]
  },
  {
   "cell_type": "code",
   "execution_count": 431,
   "metadata": {},
   "outputs": [
    {
     "data": {
      "text/plain": [
       "<matplotlib.collections.PathCollection at 0x1777266d8>"
      ]
     },
     "execution_count": 431,
     "metadata": {},
     "output_type": "execute_result"
    },
    {
     "data": {
      "image/png": "[encoded data removed]",
      "text/plain": [
       "<matplotlib.figure.Figure at 0x1776aa4e0>"
      ]
     },
     "metadata": {},
     "output_type": "display_data"
    }
   ],
   "source": [
    "#run regression and plot relationship of time of appraisal on sqft value \n",
    "plt.scatter(year_clean['Timeline'], year_clean['Value per SQFT'], c='g')"
   ]
  },
  {
   "cell_type": "code",
   "execution_count": 433,
   "metadata": {},
   "outputs": [
    {
     "name": "stdout",
     "output_type": "stream",
     "text": [
      "                            OLS Regression Results                            \n",
      "==============================================================================\n",
      "Dep. Variable:         Value per SQFT   R-squared:                       0.071\n",
      "Model:                            OLS   Adj. R-squared:                  0.068\n",
      "Method:                 Least Squares   F-statistic:                     26.33\n",
      "Date:                Mon, 11 Dec 2017   Prob (F-statistic):           4.79e-07\n",
      "Time:                        13:36:14   Log-Likelihood:                -2222.4\n",
      "No. Observations:                 349   AIC:                             4449.\n",
      "Df Residuals:                     347   BIC:                             4456.\n",
      "Df Model:                           1                                         \n",
      "Covariance Type:            nonrobust                                         \n",
      "==============================================================================\n",
      "                 coef    std err          t      P>|t|      [0.025      0.975]\n",
      "------------------------------------------------------------------------------\n",
      "const      -1.492e+04   2934.107     -5.085      0.000   -2.07e+04   -9148.896\n",
      "Timeline       7.4809      1.458      5.132      0.000       4.614      10.348\n",
      "==============================================================================\n",
      "Omnibus:                      307.909   Durbin-Watson:                   1.686\n",
      "Prob(Omnibus):                  0.000   Jarque-Bera (JB):             6532.778\n",
      "Skew:                           3.698   Prob(JB):                         0.00\n",
      "Kurtosis:                      22.863   Cond. No.                     7.80e+05\n",
      "==============================================================================\n",
      "\n",
      "Warnings:\n",
      "[1] Standard Errors assume that the covariance matrix of the errors is correctly specified.\n",
      "[2] The condition number is large, 7.8e+05. This might indicate that there are\n",
      "strong multicollinearity or other numerical problems.\n"
     ]
    }
   ],
   "source": [
    "X = sm.add_constant(year_clean['Timeline'])\n",
    "model = sm.OLS(year_clean['Value per SQFT'], X)\n",
    "results = model.fit()\n",
    "print(results.summary())"
   ]
  },
  {
   "cell_type": "code",
   "execution_count": 566,
   "metadata": {},
   "outputs": [
    {
     "data": {
      "image/png": "[encoded data removed]",
      "text/plain": [
       "<matplotlib.figure.Figure at 0x17e4813c8>"
      ]
     },
     "metadata": {},
     "output_type": "display_data"
    }
   ],
   "source": [
    "sns.jointplot(\"Timeline\", 'Value per SQFT', data=year_clean, kind=\"reg\", scatter_kws={\"s\": 10}, size=10)\n",
    "sns.despine()\n",
    "plt.title('Regressing Time of Last Appraisal on Parcel Value per Square Foot', fontsize=14)\n",
    "plt.savefig('data/time_valuesqftreg.png', bbox_inches='tight')"
   ]
  },
  {
   "cell_type": "code",
   "execution_count": 364,
   "metadata": {},
   "outputs": [
    {
     "data": {
      "image/png": "[encoded data removed]",
      "text/plain": [
       "<matplotlib.figure.Figure at 0x151099780>"
      ]
     },
     "metadata": {},
     "output_type": "display_data"
    }
   ],
   "source": [
    "sns.distplot(vacant_parcels_proj['Value per SQFT'], bins=1000, kde=False);\n",
    "sns.despine()\n",
    "plt.title('Distribution of Parcel Value', fontsize=14)\n",
    "plt.xlim(0,100)\n",
    "plt.savefig('data/dist_valuesqft.png', bbox_inches='tight')"
   ]
  },
  {
   "cell_type": "code",
   "execution_count": 362,
   "metadata": {},
   "outputs": [
    {
     "data": {
      "image/png": "[encoded data removed]",
      "text/plain": [
       "<matplotlib.figure.Figure at 0x1696228d0>"
      ]
     },
     "metadata": {},
     "output_type": "display_data"
    }
   ],
   "source": [
    "sns.distplot(vacant_parcels_proj['Year'], bins=1000, kde=False);\n",
    "sns.set_style(\"ticks\")\n",
    "sns.despine()\n",
    "plt.title('Year of Last Documented Activity for Vacant Parcels', fontsize=14)\n",
    "plt.xlim(1950,2020)\n",
    "plt.savefig('data/dist_year.png', bbox_inches='tight')"
   ]
  },
  {
   "cell_type": "code",
   "execution_count": 208,
   "metadata": {},
   "outputs": [
    {
     "data": {
      "text/html": [
       "<div>\n",
       "<style>\n",
       "    .dataframe thead tr:only-child th {\n",
       "        text-align: right;\n",
       "    }\n",
       "\n",
       "    .dataframe thead th {\n",
       "        text-align: left;\n",
       "    }\n",
       "\n",
       "    .dataframe tbody tr th {\n",
       "        vertical-align: top;\n",
       "    }\n",
       "</style>\n",
       "<table border=\"1\" class=\"dataframe\">\n",
       "  <thead>\n",
       "    <tr style=\"text-align: right;\">\n",
       "      <th></th>\n",
       "      <th>Use Code</th>\n",
       "      <th>apn_sort</th>\n",
       "    </tr>\n",
       "  </thead>\n",
       "  <tbody>\n",
       "    <tr>\n",
       "      <th>0</th>\n",
       "      <td>1000</td>\n",
       "      <td>2997</td>\n",
       "    </tr>\n",
       "    <tr>\n",
       "      <th>1</th>\n",
       "      <td>3000</td>\n",
       "      <td>413</td>\n",
       "    </tr>\n",
       "    <tr>\n",
       "      <th>2</th>\n",
       "      <td>4000</td>\n",
       "      <td>435</td>\n",
       "    </tr>\n",
       "    <tr>\n",
       "      <th>3</th>\n",
       "      <td>5000</td>\n",
       "      <td>4</td>\n",
       "    </tr>\n",
       "    <tr>\n",
       "      <th>4</th>\n",
       "      <td>6000</td>\n",
       "      <td>1</td>\n",
       "    </tr>\n",
       "    <tr>\n",
       "      <th>5</th>\n",
       "      <td>6001</td>\n",
       "      <td>9</td>\n",
       "    </tr>\n",
       "    <tr>\n",
       "      <th>6</th>\n",
       "      <td>7000</td>\n",
       "      <td>243</td>\n",
       "    </tr>\n",
       "    <tr>\n",
       "      <th>7</th>\n",
       "      <td>7040</td>\n",
       "      <td>3</td>\n",
       "    </tr>\n",
       "    <tr>\n",
       "      <th>8</th>\n",
       "      <td>7090</td>\n",
       "      <td>1</td>\n",
       "    </tr>\n",
       "    <tr>\n",
       "      <th>9</th>\n",
       "      <td>800</td>\n",
       "      <td>36</td>\n",
       "    </tr>\n",
       "  </tbody>\n",
       "</table>\n",
       "</div>"
      ],
      "text/plain": [
       "  Use Code  apn_sort\n",
       "0     1000      2997\n",
       "1     3000       413\n",
       "2     4000       435\n",
       "3     5000         4\n",
       "4     6000         1\n",
       "5     6001         9\n",
       "6     7000       243\n",
       "7     7040         3\n",
       "8     7090         1\n",
       "9      800        36"
      ]
     },
     "execution_count": 208,
     "metadata": {},
     "output_type": "execute_result"
    }
   ],
   "source": [
    "code_parcels = vacant_parcels_proj.groupby(['Use Code'])[['apn_sort']].count().reset_index()\n",
    "code_parcels"
   ]
  },
  {
   "cell_type": "code",
   "execution_count": 227,
   "metadata": {
    "scrolled": true
   },
   "outputs": [
    {
     "data": {
      "image/png": "[encoded data removed]",
      "text/plain": [
       "<matplotlib.figure.Figure at 0x15d991f28>"
      ]
     },
     "metadata": {},
     "output_type": "display_data"
    }
   ],
   "source": [
    "sns.set_style(\"whitegrid\")\n",
    "sns.barplot(x=\"Use Code\", y=\"apn_sort\", data=code_parcels)\n",
    "plt.title('Count of Vacant Parcels by Type', fontsize=14)\n",
    "plt.xlabel('Vacant Parcel Use Code')\n",
    "plt.ylabel('Number of Parcels')\n",
    "plt.savefig('data/code_parcels.png', bbox_inches='tight')"
   ]
  },
  {
   "cell_type": "code",
   "execution_count": null,
   "metadata": {},
   "outputs": [],
   "source": [
    "zip_values = vacant_parcels_proj.groupby(['Situs Zip'])[['Total Net Value']].sum().reset_index()\n",
    "zip_values"
   ]
  },
  {
   "cell_type": "code",
   "execution_count": 223,
   "metadata": {},
   "outputs": [
    {
     "data": {
      "text/html": [
       "<div>\n",
       "<style>\n",
       "    .dataframe thead tr:only-child th {\n",
       "        text-align: right;\n",
       "    }\n",
       "\n",
       "    .dataframe thead th {\n",
       "        text-align: left;\n",
       "    }\n",
       "\n",
       "    .dataframe tbody tr th {\n",
       "        vertical-align: top;\n",
       "    }\n",
       "</style>\n",
       "<table border=\"1\" class=\"dataframe\">\n",
       "  <thead>\n",
       "    <tr style=\"text-align: right;\">\n",
       "      <th></th>\n",
       "      <th>Use Code</th>\n",
       "      <th>Total Net Value</th>\n",
       "    </tr>\n",
       "  </thead>\n",
       "  <tbody>\n",
       "    <tr>\n",
       "      <th>0</th>\n",
       "      <td>1000</td>\n",
       "      <td>299327689</td>\n",
       "    </tr>\n",
       "    <tr>\n",
       "      <th>1</th>\n",
       "      <td>3000</td>\n",
       "      <td>139527984</td>\n",
       "    </tr>\n",
       "    <tr>\n",
       "      <th>2</th>\n",
       "      <td>4000</td>\n",
       "      <td>97711261</td>\n",
       "    </tr>\n",
       "    <tr>\n",
       "      <th>3</th>\n",
       "      <td>5000</td>\n",
       "      <td>178968</td>\n",
       "    </tr>\n",
       "    <tr>\n",
       "      <th>4</th>\n",
       "      <td>6000</td>\n",
       "      <td>0</td>\n",
       "    </tr>\n",
       "    <tr>\n",
       "      <th>5</th>\n",
       "      <td>6001</td>\n",
       "      <td>229043</td>\n",
       "    </tr>\n",
       "    <tr>\n",
       "      <th>6</th>\n",
       "      <td>7000</td>\n",
       "      <td>450626036</td>\n",
       "    </tr>\n",
       "    <tr>\n",
       "      <th>7</th>\n",
       "      <td>7040</td>\n",
       "      <td>804723</td>\n",
       "    </tr>\n",
       "    <tr>\n",
       "      <th>8</th>\n",
       "      <td>7090</td>\n",
       "      <td>0</td>\n",
       "    </tr>\n",
       "    <tr>\n",
       "      <th>9</th>\n",
       "      <td>800</td>\n",
       "      <td>82213758</td>\n",
       "    </tr>\n",
       "  </tbody>\n",
       "</table>\n",
       "</div>"
      ],
      "text/plain": [
       "  Use Code  Total Net Value\n",
       "0     1000        299327689\n",
       "1     3000        139527984\n",
       "2     4000         97711261\n",
       "3     5000           178968\n",
       "4     6000                0\n",
       "5     6001           229043\n",
       "6     7000        450626036\n",
       "7     7040           804723\n",
       "8     7090                0\n",
       "9      800         82213758"
      ]
     },
     "execution_count": 223,
     "metadata": {},
     "output_type": "execute_result"
    }
   ],
   "source": [
    "code_values = vacant_parcels_proj.groupby(['Use Code'])[['Total Net Value']].sum().reset_index()\n",
    "code_values"
   ]
  },
  {
   "cell_type": "code",
   "execution_count": 242,
   "metadata": {},
   "outputs": [
    {
     "data": {
      "image/png": "[encoded data removed]",
      "text/plain": [
       "<matplotlib.figure.Figure at 0x15e2c8630>"
      ]
     },
     "metadata": {},
     "output_type": "display_data"
    }
   ],
   "source": [
    "sns.barplot(x=\"Use Code\", y=\"Total Net Value\", data=code_values)\n",
    "plt.title('Value of Vacant Parcel by Type ($)', fontsize=14)\n",
    "plt.xlabel('Vacant Parcel Use Code')\n",
    "plt.ylabel('Total Value (Hundred Million)')\n",
    "plt.savefig('data/code_values.png', bbox_inches='tight')"
   ]
  },
  {
   "cell_type": "code",
   "execution_count": 344,
   "metadata": {},
   "outputs": [
    {
     "data": {
      "text/html": [
       "<div>\n",
       "<style>\n",
       "    .dataframe thead tr:only-child th {\n",
       "        text-align: right;\n",
       "    }\n",
       "\n",
       "    .dataframe thead th {\n",
       "        text-align: left;\n",
       "    }\n",
       "\n",
       "    .dataframe tbody tr th {\n",
       "        vertical-align: top;\n",
       "    }\n",
       "</style>\n",
       "<table border=\"1\" class=\"dataframe\">\n",
       "  <thead>\n",
       "    <tr style=\"text-align: right;\">\n",
       "      <th></th>\n",
       "      <th>Use Code</th>\n",
       "      <th>Value per SQFT</th>\n",
       "    </tr>\n",
       "  </thead>\n",
       "  <tbody>\n",
       "    <tr>\n",
       "      <th>0</th>\n",
       "      <td>1000</td>\n",
       "      <td>6.390</td>\n",
       "    </tr>\n",
       "    <tr>\n",
       "      <th>1</th>\n",
       "      <td>3000</td>\n",
       "      <td>17.400</td>\n",
       "    </tr>\n",
       "    <tr>\n",
       "      <th>2</th>\n",
       "      <td>4000</td>\n",
       "      <td>10.110</td>\n",
       "    </tr>\n",
       "    <tr>\n",
       "      <th>3</th>\n",
       "      <td>5000</td>\n",
       "      <td>0.315</td>\n",
       "    </tr>\n",
       "    <tr>\n",
       "      <th>4</th>\n",
       "      <td>6000</td>\n",
       "      <td>0.000</td>\n",
       "    </tr>\n",
       "    <tr>\n",
       "      <th>5</th>\n",
       "      <td>6001</td>\n",
       "      <td>0.310</td>\n",
       "    </tr>\n",
       "    <tr>\n",
       "      <th>6</th>\n",
       "      <td>7000</td>\n",
       "      <td>56.970</td>\n",
       "    </tr>\n",
       "    <tr>\n",
       "      <th>7</th>\n",
       "      <td>7040</td>\n",
       "      <td>0.810</td>\n",
       "    </tr>\n",
       "    <tr>\n",
       "      <th>8</th>\n",
       "      <td>7090</td>\n",
       "      <td>0.000</td>\n",
       "    </tr>\n",
       "    <tr>\n",
       "      <th>9</th>\n",
       "      <td>800</td>\n",
       "      <td>9.785</td>\n",
       "    </tr>\n",
       "  </tbody>\n",
       "</table>\n",
       "</div>"
      ],
      "text/plain": [
       "  Use Code  Value per SQFT\n",
       "0     1000           6.390\n",
       "1     3000          17.400\n",
       "2     4000          10.110\n",
       "3     5000           0.315\n",
       "4     6000           0.000\n",
       "5     6001           0.310\n",
       "6     7000          56.970\n",
       "7     7040           0.810\n",
       "8     7090           0.000\n",
       "9      800           9.785"
      ]
     },
     "execution_count": 344,
     "metadata": {},
     "output_type": "execute_result"
    }
   ],
   "source": [
    "code_sqftvalue = vacant_parcels_proj.groupby(['Use Code'])[['Value per SQFT']].median().reset_index()\n",
    "code_sqftvalue"
   ]
  },
  {
   "cell_type": "code",
   "execution_count": 345,
   "metadata": {},
   "outputs": [
    {
     "data": {
      "image/png": "[encoded data removed]",
      "text/plain": [
       "<matplotlib.figure.Figure at 0x169a1c588>"
      ]
     },
     "metadata": {},
     "output_type": "display_data"
    }
   ],
   "source": [
    "sns.barplot(x=\"Use Code\", y=\"Value per SQFT\", data=code_sqftvalue)\n",
    "plt.title('Value per SQFT of Vacant Parcel by Type', fontsize=14)\n",
    "plt.xlabel('Vacant Parcel Use Code')\n",
    "plt.ylabel('Value per SQFT')\n",
    "plt.savefig('data/code_sqftvalue.png', bbox_inches='tight')"
   ]
  },
  {
   "cell_type": "code",
   "execution_count": 343,
   "metadata": {},
   "outputs": [
    {
     "data": {
      "text/html": [
       "<div>\n",
       "<style>\n",
       "    .dataframe thead tr:only-child th {\n",
       "        text-align: right;\n",
       "    }\n",
       "\n",
       "    .dataframe thead th {\n",
       "        text-align: left;\n",
       "    }\n",
       "\n",
       "    .dataframe tbody tr th {\n",
       "        vertical-align: top;\n",
       "    }\n",
       "</style>\n",
       "<table border=\"1\" class=\"dataframe\">\n",
       "  <thead>\n",
       "    <tr style=\"text-align: right;\">\n",
       "      <th></th>\n",
       "      <th>Use Code</th>\n",
       "      <th>Parcel Area</th>\n",
       "    </tr>\n",
       "  </thead>\n",
       "  <tbody>\n",
       "    <tr>\n",
       "      <th>0</th>\n",
       "      <td>1000</td>\n",
       "      <td>43209190.0</td>\n",
       "    </tr>\n",
       "    <tr>\n",
       "      <th>1</th>\n",
       "      <td>3000</td>\n",
       "      <td>3441124.0</td>\n",
       "    </tr>\n",
       "    <tr>\n",
       "      <th>2</th>\n",
       "      <td>4000</td>\n",
       "      <td>6170475.0</td>\n",
       "    </tr>\n",
       "    <tr>\n",
       "      <th>3</th>\n",
       "      <td>5000</td>\n",
       "      <td>557921.0</td>\n",
       "    </tr>\n",
       "    <tr>\n",
       "      <th>4</th>\n",
       "      <td>6000</td>\n",
       "      <td>8028.0</td>\n",
       "    </tr>\n",
       "    <tr>\n",
       "      <th>5</th>\n",
       "      <td>6001</td>\n",
       "      <td>159599.0</td>\n",
       "    </tr>\n",
       "    <tr>\n",
       "      <th>6</th>\n",
       "      <td>7000</td>\n",
       "      <td>3920299.0</td>\n",
       "    </tr>\n",
       "    <tr>\n",
       "      <th>7</th>\n",
       "      <td>7040</td>\n",
       "      <td>34011.0</td>\n",
       "    </tr>\n",
       "    <tr>\n",
       "      <th>8</th>\n",
       "      <td>7090</td>\n",
       "      <td>115204.0</td>\n",
       "    </tr>\n",
       "    <tr>\n",
       "      <th>9</th>\n",
       "      <td>800</td>\n",
       "      <td>7274340.0</td>\n",
       "    </tr>\n",
       "  </tbody>\n",
       "</table>\n",
       "</div>"
      ],
      "text/plain": [
       "  Use Code  Parcel Area\n",
       "0     1000   43209190.0\n",
       "1     3000    3441124.0\n",
       "2     4000    6170475.0\n",
       "3     5000     557921.0\n",
       "4     6000       8028.0\n",
       "5     6001     159599.0\n",
       "6     7000    3920299.0\n",
       "7     7040      34011.0\n",
       "8     7090     115204.0\n",
       "9      800    7274340.0"
      ]
     },
     "execution_count": 343,
     "metadata": {},
     "output_type": "execute_result"
    }
   ],
   "source": [
    "code_area = vacant_parcels_proj.groupby(['Use Code'])[['Parcel Area']].sum().reset_index()\n",
    "code_area"
   ]
  },
  {
   "cell_type": "code",
   "execution_count": null,
   "metadata": {},
   "outputs": [],
   "source": [
    "sns.barplot(x=\"Use Code\", y=\"Parcel Area\", data=code_area)\n",
    "plt.title('Area of Vacant Parcel by Type', fontsize=14)\n",
    "plt.xlabel('Vacant Parcel Use Code')\n",
    "plt.ylabel('Parcel Area (ten million sqft)')\n",
    "plt.savefig('data/code_area.png', bbox_inches='tight')\n",
    "#ax = plt.gca()\n",
    "#ax.get_yaxis().get_major_formatter().set_useOffset(False)\n",
    "#ax1.ticklabel_format(axis='y', style='sci', useOffset=False)\n",
    "#plt.yticks(np.arange(y.min(), y.max(), 0.005))\n"
   ]
  },
  {
   "cell_type": "code",
   "execution_count": 292,
   "metadata": {},
   "outputs": [
    {
     "data": {
      "text/html": [
       "<div>\n",
       "<style>\n",
       "    .dataframe thead tr:only-child th {\n",
       "        text-align: right;\n",
       "    }\n",
       "\n",
       "    .dataframe thead th {\n",
       "        text-align: left;\n",
       "    }\n",
       "\n",
       "    .dataframe tbody tr th {\n",
       "        vertical-align: top;\n",
       "    }\n",
       "</style>\n",
       "<table border=\"1\" class=\"dataframe\">\n",
       "  <thead>\n",
       "    <tr style=\"text-align: right;\">\n",
       "      <th></th>\n",
       "      <th>Use Code</th>\n",
       "      <th>income</th>\n",
       "    </tr>\n",
       "  </thead>\n",
       "  <tbody>\n",
       "    <tr>\n",
       "      <th>0</th>\n",
       "      <td>1000</td>\n",
       "      <td>107394.0</td>\n",
       "    </tr>\n",
       "    <tr>\n",
       "      <th>1</th>\n",
       "      <td>3000</td>\n",
       "      <td>48457.0</td>\n",
       "    </tr>\n",
       "    <tr>\n",
       "      <th>2</th>\n",
       "      <td>4000</td>\n",
       "      <td>49853.0</td>\n",
       "    </tr>\n",
       "    <tr>\n",
       "      <th>3</th>\n",
       "      <td>5000</td>\n",
       "      <td>104460.0</td>\n",
       "    </tr>\n",
       "    <tr>\n",
       "      <th>4</th>\n",
       "      <td>6000</td>\n",
       "      <td>86629.0</td>\n",
       "    </tr>\n",
       "    <tr>\n",
       "      <th>5</th>\n",
       "      <td>6001</td>\n",
       "      <td>78814.0</td>\n",
       "    </tr>\n",
       "    <tr>\n",
       "      <th>6</th>\n",
       "      <td>7000</td>\n",
       "      <td>49365.0</td>\n",
       "    </tr>\n",
       "    <tr>\n",
       "      <th>7</th>\n",
       "      <td>7040</td>\n",
       "      <td>43282.0</td>\n",
       "    </tr>\n",
       "    <tr>\n",
       "      <th>8</th>\n",
       "      <td>7090</td>\n",
       "      <td>103117.0</td>\n",
       "    </tr>\n",
       "    <tr>\n",
       "      <th>9</th>\n",
       "      <td>800</td>\n",
       "      <td>60705.0</td>\n",
       "    </tr>\n",
       "  </tbody>\n",
       "</table>\n",
       "</div>"
      ],
      "text/plain": [
       "  Use Code    income\n",
       "0     1000  107394.0\n",
       "1     3000   48457.0\n",
       "2     4000   49853.0\n",
       "3     5000  104460.0\n",
       "4     6000   86629.0\n",
       "5     6001   78814.0\n",
       "6     7000   49365.0\n",
       "7     7040   43282.0\n",
       "8     7090  103117.0\n",
       "9      800   60705.0"
      ]
     },
     "execution_count": 292,
     "metadata": {},
     "output_type": "execute_result"
    }
   ],
   "source": [
    "code_area = round(parcels_tracts.groupby(['Use Code'])[['income']].mean()).reset_index()\n",
    "code_area"
   ]
  },
  {
   "cell_type": "code",
   "execution_count": null,
   "metadata": {},
   "outputs": [],
   "source": [
    "#value by zoning code\n",
    "zone_values = vacant_parcels_zone.groupby(['basezone'])[['Total Net Value']].count().reset_index()"
   ]
  },
  {
   "cell_type": "code",
   "execution_count": null,
   "metadata": {},
   "outputs": [],
   "source": [
    "zone_code = vacant_parcels_zone.groupby(['basezone'])[['apn_sort']].count().reset_index().sort_values(by='apn_sort',ascending=False)\n",
    "zone_code"
   ]
  },
  {
   "cell_type": "code",
   "execution_count": 79,
   "metadata": {},
   "outputs": [
    {
     "data": {
      "text/plain": [
       "15613832452577.998"
      ]
     },
     "execution_count": 79,
     "metadata": {},
     "output_type": "execute_result"
    }
   ],
   "source": [
    "#summary calculations\n",
    "total_value = vacant_parcels_proj['Total Net Value'].sum()\n",
    "#1,070,619,462\n",
    "median_value = vacant_parcels_proj['Total Net Value'].median()\n",
    "#46,766.5\n",
    "mean_value = vacant_parcels_proj['Total Net Value'].mean()\n",
    "#258,478.87\n",
    "\n",
    "total_land = vacant_parcels_proj['Land'].sum()\n",
    "#953,303,097\n",
    "median_land = vacant_parcels_proj['Land'].median()\n",
    "#47,746.00\n",
    "mean_land = vacant_parcels_proj['Land'].mean()\n",
    "#230,155.26\n",
    "\n",
    "total_imps = vacant_parcels_proj['Imps'].sum()\n",
    "#127,205,115\n",
    "median_imps = vacant_parcels_proj['Imps'].median()\n",
    "#0\n",
    "mean_imps = vacant_parcels_proj['Imps'].mean()\n",
    "#30,711\n",
    "\n",
    "total_area = vacant_parcels_proj['Parcel Area'].sum()\n",
    "#15,613,832,452,578\n",
    "median_area = vacant_parcels_proj['Parcel Area'].median()\n",
    "#1,430,580,226\n",
    "mean_area = vacant_parcels_proj['Parcel Area'].mean()\n",
    "#15,666\n",
    "\n",
    "total_valuesqft = vacant_parcels_proj['Value per SQFT'].sum()\n",
    "#94,522.24\n",
    "median_valuesqft = vacant_parcels_proj['Value per SQFT'].median()\n",
    "#8.35\n",
    "mean_valuesqft = vacant_parcels_proj['Value per SQFT'].mean()\n",
    "#22.82\n",
    "\n",
    "total_valuesqft = vacant_parcels_proj['Tax'].sum()\n",
    "#53,530,973.10\n",
    "median_valuesqft = vacant_parcels_proj['Tax'].median()\n",
    "#2,338.33\n",
    "mean_valuesqft = vacant_parcels_proj['Tax'].mean()\n",
    "#12,923.94"
   ]
  },
  {
   "cell_type": "markdown",
   "metadata": {},
   "source": [
    "# Ignore Below (Notes)"
   ]
  }
 ],
 "metadata": {
  "kernelspec": {
   "display_name": "Python 3",
   "language": "python",
   "name": "python3"
  },
  "language_info": {
   "codemirror_mode": {
    "name": "ipython",
    "version": 3
   },
   "file_extension": ".py",
   "mimetype": "text/x-python",
   "name": "python",
   "nbconvert_exporter": "python",
   "pygments_lexer": "ipython3",
   "version": "3.6.1"
  }
 },
 "nbformat": 4,
 "nbformat_minor": 2
}
